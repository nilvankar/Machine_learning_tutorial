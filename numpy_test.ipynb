{
 "cells": [
  {
   "cell_type": "code",
   "execution_count": 1,
   "id": "8ce4daea-3a7c-4630-8683-6d84477c9c11",
   "metadata": {},
   "outputs": [],
   "source": [
    "import numpy as np\n"
   ]
  },
  {
   "cell_type": "markdown",
   "id": "a0e41c2d-3281-4b59-b4db-66143b3c4530",
   "metadata": {},
   "source": [
    "## 0 dimension array"
   ]
  },
  {
   "cell_type": "code",
   "execution_count": 2,
   "id": "908a894d-0b20-4fac-91d6-f97f2d81033a",
   "metadata": {},
   "outputs": [],
   "source": [
    "a1=np.array(0)"
   ]
  },
  {
   "cell_type": "code",
   "execution_count": 3,
   "id": "79a98991-6a83-405f-8a4d-f0cedc6bd23c",
   "metadata": {},
   "outputs": [
    {
     "data": {
      "text/plain": [
       "()"
      ]
     },
     "execution_count": 3,
     "metadata": {},
     "output_type": "execute_result"
    }
   ],
   "source": [
    "a1.shape"
   ]
  },
  {
   "cell_type": "code",
   "execution_count": 8,
   "id": "e4a0b599-864f-4f20-a5dc-afb34aff923f",
   "metadata": {},
   "outputs": [
    {
     "data": {
      "text/plain": [
       "0"
      ]
     },
     "execution_count": 8,
     "metadata": {},
     "output_type": "execute_result"
    }
   ],
   "source": [
    "a1.ndim"
   ]
  },
  {
   "cell_type": "code",
   "execution_count": 13,
   "id": "053b540e-05f5-4b2d-8d93-9cad07482e3e",
   "metadata": {},
   "outputs": [
    {
     "data": {
      "text/plain": [
       "3"
      ]
     },
     "execution_count": 13,
     "metadata": {},
     "output_type": "execute_result"
    }
   ],
   "source": [
    "one_dim=np.array([1,2,3,4])\n",
    "one_dim[2]"
   ]
  },
  {
   "cell_type": "markdown",
   "id": "9c24d0ba-0e6b-45ab-a385-73dd5ad99c2f",
   "metadata": {},
   "source": [
    "## arange function\n",
    "* create array from 0 to range-1"
   ]
  },
  {
   "cell_type": "markdown",
   "id": "c38455e7-060a-4dde-8af9-01fa4f04534a",
   "metadata": {},
   "source": [
    "## two dimension array"
   ]
  },
  {
   "cell_type": "code",
   "execution_count": 7,
   "id": "fb04e4c2-ad3f-4f6b-be0c-874f9647084e",
   "metadata": {},
   "outputs": [
    {
     "data": {
      "text/plain": [
       "2"
      ]
     },
     "execution_count": 7,
     "metadata": {},
     "output_type": "execute_result"
    }
   ],
   "source": [
    "a2=np.array([[1,2,3],[4,5,6] ])\n",
    "a2.ndim"
   ]
  },
  {
   "cell_type": "markdown",
   "id": "d9c4067d-5fd9-4387-85df-0409148d45e9",
   "metadata": {},
   "source": [
    "# indexing"
   ]
  },
  {
   "cell_type": "code",
   "execution_count": 12,
   "id": "287d2712-59e2-455e-9f09-f5567b1ccb13",
   "metadata": {},
   "outputs": [
    {
     "name": "stdout",
     "output_type": "stream",
     "text": [
      "[[ 0  1  2  3]\n",
      " [ 4  5  6  7]\n",
      " [ 8  9 10 11]]\n",
      "6 value is in 1 tow and 2nd column\n"
     ]
    },
    {
     "data": {
      "text/plain": [
       "6"
      ]
     },
     "execution_count": 12,
     "metadata": {},
     "output_type": "execute_result"
    }
   ],
   "source": [
    "two_dim=np.arange(12).reshape(3,4)\n",
    "print(two_dim)\n",
    "print('6 value is in 1 tow and 2nd column')\n",
    "two_dim[1][2]\n"
   ]
  },
  {
   "cell_type": "code",
   "execution_count": 20,
   "id": "be6a0286-5fcc-451a-809a-7598390ff8bc",
   "metadata": {},
   "outputs": [
    {
     "name": "stdout",
     "output_type": "stream",
     "text": [
      "[[[1 2]\n",
      "  [3 4]]\n",
      "\n",
      " [[5 6]\n",
      "  [7 8]]]\n"
     ]
    },
    {
     "data": {
      "text/plain": [
       "6"
      ]
     },
     "execution_count": 20,
     "metadata": {},
     "output_type": "execute_result"
    }
   ],
   "source": [
    "three_dim=np.array([[[1,2],[3,4]   ],[[5,6],[7,8]]    ])\n",
    "print(three_dim)\n",
    "three_dim[1][0][1]"
   ]
  },
  {
   "cell_type": "code",
   "execution_count": 21,
   "id": "b6945753-b1e6-4ac9-99f6-bcf3a0b7898e",
   "metadata": {},
   "outputs": [
    {
     "data": {
      "text/plain": [
       "1"
      ]
     },
     "execution_count": 21,
     "metadata": {},
     "output_type": "execute_result"
    }
   ],
   "source": [
    "three_dim[0][0][0]"
   ]
  },
  {
   "cell_type": "code",
   "execution_count": 24,
   "id": "7a097017-8366-4167-b3dd-b760ffc50be3",
   "metadata": {},
   "outputs": [],
   "source": [
    "d3=np.arange(8).reshape(2,2,2)"
   ]
  },
  {
   "cell_type": "code",
   "execution_count": 25,
   "id": "ca6f0430-2050-4cb6-a839-79541cfc70c9",
   "metadata": {},
   "outputs": [
    {
     "data": {
      "text/plain": [
       "array([[[0, 1],\n",
       "        [2, 3]],\n",
       "\n",
       "       [[4, 5],\n",
       "        [6, 7]]])"
      ]
     },
     "execution_count": 25,
     "metadata": {},
     "output_type": "execute_result"
    }
   ],
   "source": [
    "d3"
   ]
  },
  {
   "cell_type": "code",
   "execution_count": 26,
   "id": "5e4322bd-7c63-4c3e-9337-cc0a4e238eac",
   "metadata": {},
   "outputs": [
    {
     "data": {
      "text/plain": [
       "6"
      ]
     },
     "execution_count": 26,
     "metadata": {},
     "output_type": "execute_result"
    }
   ],
   "source": [
    "d3[1][1][0]"
   ]
  },
  {
   "cell_type": "markdown",
   "id": "6de1e007-c062-413f-9347-dd659028b158",
   "metadata": {},
   "source": [
    "## slicing\n",
    "* range of values"
   ]
  },
  {
   "cell_type": "code",
   "execution_count": 29,
   "id": "db6c2390-6d88-4748-98eb-737f43e5f2de",
   "metadata": {},
   "outputs": [
    {
     "data": {
      "text/plain": [
       "array([2, 4, 6, 8])"
      ]
     },
     "execution_count": 29,
     "metadata": {},
     "output_type": "execute_result"
    }
   ],
   "source": [
    "one_dim=np.array([1,2,3,4,5,6,7,8,9])\n",
    "one_dim[1::2]"
   ]
  },
  {
   "cell_type": "code",
   "execution_count": 33,
   "id": "66f48acc-a11a-4b7c-9760-8e4c2f843613",
   "metadata": {},
   "outputs": [
    {
     "data": {
      "text/plain": [
       "array([ 2,  6, 10])"
      ]
     },
     "execution_count": 33,
     "metadata": {},
     "output_type": "execute_result"
    }
   ],
   "source": [
    "two_dim=np.arange(12).reshape(3,4)\n",
    "two_dim[:,2]"
   ]
  },
  {
   "cell_type": "code",
   "execution_count": 35,
   "id": "399d97ba-058e-4551-afc4-ac17e4e96970",
   "metadata": {},
   "outputs": [
    {
     "data": {
      "text/plain": [
       "array([[ 5,  6],\n",
       "       [ 9, 10]])"
      ]
     },
     "execution_count": 35,
     "metadata": {},
     "output_type": "execute_result"
    }
   ],
   "source": [
    "two_dim[1:,1:3]"
   ]
  },
  {
   "cell_type": "code",
   "execution_count": 2,
   "id": "0a5b8a3b-70fd-4b0e-9ebb-a1c2559109a1",
   "metadata": {},
   "outputs": [
    {
     "data": {
      "text/plain": [
       "array([[ 0,  1,  2,  3],\n",
       "       [ 4,  5,  6,  7],\n",
       "       [ 8,  9, 10, 11]])"
      ]
     },
     "execution_count": 2,
     "metadata": {},
     "output_type": "execute_result"
    }
   ],
   "source": [
    "import numpy as np\n",
    "two_dimension=np.arange(12).reshape(3,4)\n",
    "two_dimension"
   ]
  },
  {
   "cell_type": "code",
   "execution_count": 8,
   "id": "b24aa983-4f15-406a-85f3-5c62d6e9b436",
   "metadata": {},
   "outputs": [
    {
     "data": {
      "text/plain": [
       "array([[ 0,  3],\n",
       "       [ 8, 11]])"
      ]
     },
     "execution_count": 8,
     "metadata": {},
     "output_type": "execute_result"
    }
   ],
   "source": [
    "two_dimension[::2,::3,]\n",
    "#corner values"
   ]
  },
  {
   "cell_type": "code",
   "execution_count": 17,
   "id": "91189da4-17d4-4aaf-ba1c-ef8490156931",
   "metadata": {},
   "outputs": [
    {
     "data": {
      "text/plain": [
       "array([[ 1,  3],\n",
       "       [ 9, 11]])"
      ]
     },
     "execution_count": 17,
     "metadata": {},
     "output_type": "execute_result"
    }
   ],
   "source": [
    "two_dimension[::2,1::2]"
   ]
  },
  {
   "cell_type": "code",
   "execution_count": 29,
   "id": "764efafb-aca8-4454-890c-3440c25a79e6",
   "metadata": {},
   "outputs": [
    {
     "data": {
      "text/plain": [
       "array([4, 7])"
      ]
     },
     "execution_count": 29,
     "metadata": {},
     "output_type": "execute_result"
    }
   ],
   "source": [
    "two_dimension[1,::3]"
   ]
  },
  {
   "cell_type": "code",
   "execution_count": 34,
   "id": "73a0c2ef-7a28-4d21-878f-d2f1470cf656",
   "metadata": {},
   "outputs": [
    {
     "data": {
      "text/plain": [
       "array([[1, 2, 3],\n",
       "       [5, 6, 7]])"
      ]
     },
     "execution_count": 34,
     "metadata": {},
     "output_type": "execute_result"
    }
   ],
   "source": [
    "two_dimension[:2,1:]"
   ]
  },
  {
   "cell_type": "code",
   "execution_count": 35,
   "id": "f829154a-2782-4b7d-8342-4c59aa5ac162",
   "metadata": {},
   "outputs": [
    {
     "data": {
      "text/plain": [
       "array([[1, 3],\n",
       "       [5, 7]])"
      ]
     },
     "execution_count": 35,
     "metadata": {},
     "output_type": "execute_result"
    }
   ],
   "source": [
    "two_dimension[:2,1::2]"
   ]
  },
  {
   "cell_type": "code",
   "execution_count": 40,
   "id": "ad04d8a0-80c2-4c82-bc93-cf57f32a3e68",
   "metadata": {},
   "outputs": [],
   "source": [
    "three_dimension=np.arange(27).reshape(3,3,3)"
   ]
  },
  {
   "cell_type": "code",
   "execution_count": 41,
   "id": "858c2644-272f-4487-804c-7b7b3539e036",
   "metadata": {},
   "outputs": [
    {
     "name": "stdout",
     "output_type": "stream",
     "text": [
      "[[[ 0  1  2]\n",
      "  [ 3  4  5]\n",
      "  [ 6  7  8]]\n",
      "\n",
      " [[ 9 10 11]\n",
      "  [12 13 14]\n",
      "  [15 16 17]]\n",
      "\n",
      " [[18 19 20]\n",
      "  [21 22 23]\n",
      "  [24 25 26]]]\n"
     ]
    }
   ],
   "source": [
    "print(three_dimension)"
   ]
  },
  {
   "cell_type": "code",
   "execution_count": 49,
   "id": "2512ca82-a1f8-4422-a633-32447f8f5d48",
   "metadata": {},
   "outputs": [
    {
     "data": {
      "text/plain": [
       "array([[[ 0,  1,  2],\n",
       "        [ 3,  4,  5],\n",
       "        [ 6,  7,  8]],\n",
       "\n",
       "       [[18, 19, 20],\n",
       "        [21, 22, 23],\n",
       "        [24, 25, 26]]])"
      ]
     },
     "execution_count": 49,
     "metadata": {},
     "output_type": "execute_result"
    }
   ],
   "source": [
    "three_dimension[::2]"
   ]
  },
  {
   "cell_type": "code",
   "execution_count": 53,
   "id": "45233a27-4383-4832-b326-9cc8ba530a73",
   "metadata": {},
   "outputs": [
    {
     "data": {
      "text/plain": [
       "array([3, 4, 5])"
      ]
     },
     "execution_count": 53,
     "metadata": {},
     "output_type": "execute_result"
    }
   ],
   "source": [
    "three_dimension[0,1,:]"
   ]
  },
  {
   "cell_type": "code",
   "execution_count": 54,
   "id": "ec3d9652-eb7d-4b3c-a94a-25fde355f2dc",
   "metadata": {},
   "outputs": [
    {
     "data": {
      "text/plain": [
       "array([10, 13, 16])"
      ]
     },
     "execution_count": 54,
     "metadata": {},
     "output_type": "execute_result"
    }
   ],
   "source": [
    "three_dimension[1,:,1]"
   ]
  },
  {
   "cell_type": "code",
   "execution_count": 57,
   "id": "9398d5e1-84ec-4e31-b772-281248724d84",
   "metadata": {},
   "outputs": [
    {
     "data": {
      "text/plain": [
       "array([[22, 23],\n",
       "       [25, 26]])"
      ]
     },
     "execution_count": 57,
     "metadata": {},
     "output_type": "execute_result"
    }
   ],
   "source": [
    "three_dimension[2,1:,1:]"
   ]
  },
  {
   "cell_type": "code",
   "execution_count": 65,
   "id": "ac75ea9c-32f2-4b0e-bb05-1510391d9b41",
   "metadata": {},
   "outputs": [
    {
     "data": {
      "text/plain": [
       "array([[ 0,  2],\n",
       "       [18, 20]])"
      ]
     },
     "execution_count": 65,
     "metadata": {},
     "output_type": "execute_result"
    }
   ],
   "source": [
    "three_dimension[::2,0,::2]"
   ]
  },
  {
   "cell_type": "code",
   "execution_count": 67,
   "id": "e650acbc-de69-45cd-9e10-7ce0e8d41beb",
   "metadata": {},
   "outputs": [
    {
     "name": "stdout",
     "output_type": "stream",
     "text": [
      "[[0 1 2]\n",
      " [3 4 5]\n",
      " [6 7 8]]\n",
      "[[ 9 10 11]\n",
      " [12 13 14]\n",
      " [15 16 17]]\n",
      "[[18 19 20]\n",
      " [21 22 23]\n",
      " [24 25 26]]\n"
     ]
    }
   ],
   "source": [
    "for i in three_dimension:\n",
    "    print(i)"
   ]
  },
  {
   "cell_type": "code",
   "execution_count": 68,
   "id": "0c7f621a-837f-4b91-a619-a8dbe92ba2aa",
   "metadata": {},
   "outputs": [
    {
     "name": "stdout",
     "output_type": "stream",
     "text": [
      "0\n",
      "1\n",
      "2\n",
      "3\n",
      "4\n",
      "5\n",
      "6\n",
      "7\n",
      "8\n",
      "9\n",
      "10\n",
      "11\n",
      "12\n",
      "13\n",
      "14\n",
      "15\n",
      "16\n",
      "17\n",
      "18\n",
      "19\n",
      "20\n",
      "21\n",
      "22\n",
      "23\n",
      "24\n",
      "25\n",
      "26\n"
     ]
    }
   ],
   "source": [
    "for i in np.nditer(three_dimension):\n",
    "    print(i)"
   ]
  },
  {
   "cell_type": "markdown",
   "id": "3ff01459-e9ea-4feb-86df-76fccf8730bd",
   "metadata": {},
   "source": [
    "# hstack-horizontal stack\n",
    "\n",
    "# vstack-vertical stack"
   ]
  },
  {
   "cell_type": "code",
   "execution_count": 69,
   "id": "5c2ec739-34fc-463b-b466-34f3ef895c20",
   "metadata": {},
   "outputs": [
    {
     "data": {
      "text/plain": [
       "array([[1, 2, 1, 2],\n",
       "       [3, 4, 3, 4]])"
      ]
     },
     "execution_count": 69,
     "metadata": {},
     "output_type": "execute_result"
    }
   ],
   "source": [
    "a=np.array([[1,2],[3,4]])\n",
    "b=np.array([[1,2],[3,4]])\n",
    "np.hstack((a,b))"
   ]
  },
  {
   "cell_type": "code",
   "execution_count": 70,
   "id": "71bd14df-aa06-4919-a8c4-bfe27ddeb36e",
   "metadata": {},
   "outputs": [
    {
     "data": {
      "text/plain": [
       "array([[1, 2],\n",
       "       [3, 4],\n",
       "       [1, 2],\n",
       "       [3, 4]])"
      ]
     },
     "execution_count": 70,
     "metadata": {},
     "output_type": "execute_result"
    }
   ],
   "source": [
    "a=np.array([[1,2],[3,4]])\n",
    "b=np.array([[1,2],[3,4]])\n",
    "np.vstack((a,b))"
   ]
  },
  {
   "cell_type": "markdown",
   "id": "d30d83b4-d005-4820-9585-e88145d4f7e8",
   "metadata": {},
   "source": [
    "# hstack-horizontal split\n",
    "\n",
    "# vstack-vertical split"
   ]
  },
  {
   "cell_type": "code",
   "execution_count": 72,
   "id": "2ab5d832-6596-449b-b718-851587ef334b",
   "metadata": {},
   "outputs": [],
   "source": [
    "new_arr=np.arange(24).reshape(6,4)"
   ]
  },
  {
   "cell_type": "code",
   "execution_count": 76,
   "id": "dac40c7e-1ec7-458b-b6de-6f0bb58d7335",
   "metadata": {},
   "outputs": [
    {
     "data": {
      "text/plain": [
       "[array([[ 0,  1,  2],\n",
       "        [ 4,  5,  6],\n",
       "        [ 8,  9, 10],\n",
       "        [12, 13, 14],\n",
       "        [16, 17, 18],\n",
       "        [20, 21, 22]]),\n",
       " array([], shape=(6, 0), dtype=int32),\n",
       " array([[ 2,  3],\n",
       "        [ 6,  7],\n",
       "        [10, 11],\n",
       "        [14, 15],\n",
       "        [18, 19],\n",
       "        [22, 23]])]"
      ]
     },
     "execution_count": 76,
     "metadata": {},
     "output_type": "execute_result"
    }
   ],
   "source": [
    "np.hsplit(new_arr,(3,2))"
   ]
  },
  {
   "cell_type": "markdown",
   "id": "7ce375ed-d51c-492f-ad38-8051ff2efd2d",
   "metadata": {},
   "source": [
    "## Advance Indexing"
   ]
  },
  {
   "cell_type": "markdown",
   "id": "66753621-e174-4b6c-a151-d931ade787d5",
   "metadata": {},
   "source": [
    "### fancy indexing"
   ]
  },
  {
   "cell_type": "code",
   "execution_count": 2,
   "id": "c5bfd604-2284-4ca7-a231-63f91b6f46d7",
   "metadata": {},
   "outputs": [],
   "source": [
    "import numpy as np\n",
    "a=np.arange(12).reshape(4,3)"
   ]
  },
  {
   "cell_type": "code",
   "execution_count": 7,
   "id": "8c7777fa-ca0a-494b-b046-4dc14bb5e530",
   "metadata": {},
   "outputs": [
    {
     "data": {
      "text/plain": [
       "array([[ 0,  1,  2],\n",
       "       [ 3,  4,  5],\n",
       "       [ 9, 10, 11]])"
      ]
     },
     "execution_count": 7,
     "metadata": {},
     "output_type": "execute_result"
    }
   ],
   "source": [
    "# fetching first,third and last row\n",
    "a[[0,1,3]]"
   ]
  },
  {
   "cell_type": "code",
   "execution_count": 9,
   "id": "975af609-cf81-4f43-8d0a-7b582fbe4e5f",
   "metadata": {},
   "outputs": [],
   "source": [
    "b=np.arange(24).reshape(6,4)"
   ]
  },
  {
   "cell_type": "code",
   "execution_count": 10,
   "id": "ef5b7f9a-ebd0-47da-af29-cbc3f3a43f26",
   "metadata": {},
   "outputs": [
    {
     "data": {
      "text/plain": [
       "array([[ 0,  1,  2,  3],\n",
       "       [ 4,  5,  6,  7],\n",
       "       [ 8,  9, 10, 11],\n",
       "       [12, 13, 14, 15],\n",
       "       [16, 17, 18, 19],\n",
       "       [20, 21, 22, 23]])"
      ]
     },
     "execution_count": 10,
     "metadata": {},
     "output_type": "execute_result"
    }
   ],
   "source": [
    "b"
   ]
  },
  {
   "cell_type": "code",
   "execution_count": 11,
   "id": "686e7d3c-9873-47fe-82af-cba68b71aef4",
   "metadata": {},
   "outputs": [
    {
     "data": {
      "text/plain": [
       "array([[ 0,  1,  2,  3],\n",
       "       [ 8,  9, 10, 11],\n",
       "       [12, 13, 14, 15],\n",
       "       [20, 21, 22, 23]])"
      ]
     },
     "execution_count": 11,
     "metadata": {},
     "output_type": "execute_result"
    }
   ],
   "source": [
    "b[[0,2,3,5]]"
   ]
  },
  {
   "cell_type": "code",
   "execution_count": 18,
   "id": "57500cfd-c178-46ee-b94b-b9794189f16d",
   "metadata": {},
   "outputs": [
    {
     "data": {
      "text/plain": [
       "array([[ 0,  2,  3],\n",
       "       [ 4,  6,  7],\n",
       "       [ 8, 10, 11],\n",
       "       [12, 14, 15],\n",
       "       [16, 18, 19],\n",
       "       [20, 22, 23]])"
      ]
     },
     "execution_count": 18,
     "metadata": {},
     "output_type": "execute_result"
    }
   ],
   "source": [
    "# fetching first third and last column\n",
    "b[:,[0,2,3]]"
   ]
  },
  {
   "cell_type": "markdown",
   "id": "ed6d8948-ec84-46a6-832a-3309fbb0cd6b",
   "metadata": {},
   "source": [
    "### boolean indexing\n",
    "* filtering"
   ]
  },
  {
   "cell_type": "code",
   "execution_count": 29,
   "id": "38d0ebf0-fc40-4f55-b26e-8c9a8d15efc0",
   "metadata": {},
   "outputs": [],
   "source": [
    "random_num=np.random.randint(1,100,24).reshape(6,4)"
   ]
  },
  {
   "cell_type": "code",
   "execution_count": 30,
   "id": "b3f4d339-eac5-46b1-b322-08eeac74d450",
   "metadata": {},
   "outputs": [
    {
     "data": {
      "text/plain": [
       "array([80, 91, 84, 82, 72, 51, 79, 77, 93, 96, 93, 89, 57])"
      ]
     },
     "execution_count": 30,
     "metadata": {},
     "output_type": "execute_result"
    }
   ],
   "source": [
    "random_num[random_num>50]"
   ]
  },
  {
   "cell_type": "code",
   "execution_count": null,
   "id": "199e2418-22ab-4433-9fd0-bfc3f0b29eed",
   "metadata": {},
   "outputs": [],
   "source": [
    "only even number"
   ]
  },
  {
   "cell_type": "code",
   "execution_count": 32,
   "id": "61cb9b51-b885-4ff6-809a-595a31ee8a17",
   "metadata": {},
   "outputs": [],
   "source": [
    "evenNum=random_num[random_num%2==0]"
   ]
  },
  {
   "cell_type": "code",
   "execution_count": 33,
   "id": "9889cfb6-4699-449d-95d9-3e58c9b6894b",
   "metadata": {},
   "outputs": [
    {
     "data": {
      "text/plain": [
       "array([50, 24, 80, 44, 24, 24, 84, 82, 72, 32, 96])"
      ]
     },
     "execution_count": 33,
     "metadata": {},
     "output_type": "execute_result"
    }
   ],
   "source": [
    "evenNum"
   ]
  },
  {
   "cell_type": "code",
   "execution_count": 38,
   "id": "929c5f79-2b4b-4ba2-abb7-11dd6c08918a",
   "metadata": {},
   "outputs": [],
   "source": [
    "evenGrater50=random_num[(random_num>50) & (random_num%2==0)]"
   ]
  },
  {
   "cell_type": "code",
   "execution_count": 39,
   "id": "615e4ae0-516f-4ea0-9a75-d9f3d449f72d",
   "metadata": {},
   "outputs": [
    {
     "data": {
      "text/plain": [
       "array([80, 84, 82, 72, 96])"
      ]
     },
     "execution_count": 39,
     "metadata": {},
     "output_type": "execute_result"
    }
   ],
   "source": [
    "evenGrater50"
   ]
  },
  {
   "cell_type": "code",
   "execution_count": 40,
   "id": "84542c93-14c7-4f5d-8d9e-e84bfd97407b",
   "metadata": {},
   "outputs": [
    {
     "data": {
      "text/plain": [
       "array([50, 24, 80, 44, 24, 19, 24, 82, 72, 51, 32, 45, 79, 93, 96, 93, 89,\n",
       "       57])"
      ]
     },
     "execution_count": 40,
     "metadata": {},
     "output_type": "execute_result"
    }
   ],
   "source": [
    "notdiviable7=random_num[random_num%7!=0]\n",
    "notdiviable7"
   ]
  },
  {
   "cell_type": "markdown",
   "id": "e5baa746-112d-4fa3-8398-71446c4dfba3",
   "metadata": {},
   "source": [
    "## broadcasting\n",
    "* how numpy array treats diffrent shape during arithemtic operation\n",
    "### Rules\n",
    " * make the two arrys have the same number of dimension by add new dimension with size 1 to the head of the array with smaller dimension.\n",
    " * for exmaple one 2d and other is 1d so 1 is add two 1d it will become 2nd\n",
    " * dimension with size 1 are streach to the size of other array element.\n",
    " * if not 1 in either two array than no brodcast happend."
   ]
  },
  {
   "cell_type": "code",
   "execution_count": 41,
   "id": "a16667b1-4c30-4735-b854-b6ea39fe6a3f",
   "metadata": {},
   "outputs": [
    {
     "data": {
      "text/plain": [
       "array([[0, 1, 2],\n",
       "       [3, 4, 5]])"
      ]
     },
     "execution_count": 41,
     "metadata": {},
     "output_type": "execute_result"
    }
   ],
   "source": [
    "a=np.arange(6).reshape(2,3)\n",
    "a"
   ]
  },
  {
   "cell_type": "code",
   "execution_count": 46,
   "id": "4b5365fc-8abb-4f93-8a98-6b23edc4bd0e",
   "metadata": {},
   "outputs": [
    {
     "data": {
      "text/plain": [
       "array([[0, 1, 2],\n",
       "       [3, 4, 5]])"
      ]
     },
     "execution_count": 46,
     "metadata": {},
     "output_type": "execute_result"
    }
   ],
   "source": [
    "b=np.arange(6).reshape(2,3)\n",
    "b"
   ]
  },
  {
   "cell_type": "code",
   "execution_count": 44,
   "id": "c5cd34d5-6c32-42a6-8aef-0c1c08df1f6a",
   "metadata": {},
   "outputs": [
    {
     "data": {
      "text/plain": [
       "array([[ 0,  2,  4],\n",
       "       [ 6,  8, 10]])"
      ]
     },
     "execution_count": 44,
     "metadata": {},
     "output_type": "execute_result"
    }
   ],
   "source": [
    "a+b"
   ]
  },
  {
   "cell_type": "code",
   "execution_count": 45,
   "id": "2985c3ad-89af-4895-988c-25920e1665b3",
   "metadata": {},
   "outputs": [
    {
     "data": {
      "text/plain": [
       "array([[0, 0, 0],\n",
       "       [0, 0, 0]])"
      ]
     },
     "execution_count": 45,
     "metadata": {},
     "output_type": "execute_result"
    }
   ],
   "source": [
    "a-b"
   ]
  },
  {
   "cell_type": "code",
   "execution_count": 4,
   "id": "195aa2a1-2570-4397-864b-07d46a72cd6a",
   "metadata": {},
   "outputs": [
    {
     "name": "stdout",
     "output_type": "stream",
     "text": [
      "a [[0 1 2]\n",
      " [3 4 5]]\n",
      "b [[0 1 2]]\n"
     ]
    },
    {
     "data": {
      "text/plain": [
       "array([[0, 2, 4],\n",
       "       [3, 5, 7]])"
      ]
     },
     "execution_count": 4,
     "metadata": {},
     "output_type": "execute_result"
    }
   ],
   "source": [
    "\n",
    "a=np.arange(6).reshape(2,3)\n",
    "print('a',a)\n",
    "b=np.arange(3).reshape(1,3)\n",
    "print('b',b)\n",
    "a+b"
   ]
  },
  {
   "cell_type": "code",
   "execution_count": 14,
   "id": "1c83923b-5bf9-42a4-b9b8-9b124f481b6f",
   "metadata": {},
   "outputs": [],
   "source": [
    "a=np.arange(12).reshape(3,4)\n",
    "b=np.arange(3)"
   ]
  },
  {
   "cell_type": "code",
   "execution_count": 15,
   "id": "5c941380-48c9-4504-8a58-6b2ca7043f1e",
   "metadata": {},
   "outputs": [
    {
     "data": {
      "text/plain": [
       "array([[ 0,  1,  2,  3],\n",
       "       [ 4,  5,  6,  7],\n",
       "       [ 8,  9, 10, 11]])"
      ]
     },
     "execution_count": 15,
     "metadata": {},
     "output_type": "execute_result"
    }
   ],
   "source": [
    "a"
   ]
  },
  {
   "cell_type": "code",
   "execution_count": 16,
   "id": "a604b433-1ee9-40ce-800d-7473b8de262c",
   "metadata": {},
   "outputs": [
    {
     "data": {
      "text/plain": [
       "array([0, 1, 2])"
      ]
     },
     "execution_count": 16,
     "metadata": {},
     "output_type": "execute_result"
    }
   ],
   "source": [
    "b"
   ]
  },
  {
   "cell_type": "code",
   "execution_count": 17,
   "id": "6a86ad2e-c9c5-49e1-9e98-d9fb33544d80",
   "metadata": {},
   "outputs": [
    {
     "ename": "ValueError",
     "evalue": "operands could not be broadcast together with shapes (3,4) (3,) ",
     "output_type": "error",
     "traceback": [
      "\u001b[1;31m---------------------------------------------------------------------------\u001b[0m",
      "\u001b[1;31mValueError\u001b[0m                                Traceback (most recent call last)",
      "Cell \u001b[1;32mIn[17], line 1\u001b[0m\n\u001b[1;32m----> 1\u001b[0m a\u001b[38;5;241m+\u001b[39mb\n",
      "\u001b[1;31mValueError\u001b[0m: operands could not be broadcast together with shapes (3,4) (3,) "
     ]
    }
   ],
   "source": [
    "a+b"
   ]
  },
  {
   "cell_type": "code",
   "execution_count": 19,
   "id": "62488ec0-e32b-47d7-ad8f-fb24dde7d787",
   "metadata": {},
   "outputs": [
    {
     "data": {
      "text/plain": [
       "array([[ 0,  2,  4],\n",
       "       [ 3,  5,  7],\n",
       "       [ 6,  8, 10],\n",
       "       [ 9, 11, 13]])"
      ]
     },
     "execution_count": 19,
     "metadata": {},
     "output_type": "execute_result"
    }
   ],
   "source": [
    "a=np.arange(12).reshape(4,3)\n",
    "b=np.arange(3)\n",
    "a+b"
   ]
  },
  {
   "cell_type": "code",
   "execution_count": 20,
   "id": "e267b92e-e7da-4e47-bbfa-5c37011b350b",
   "metadata": {},
   "outputs": [
    {
     "name": "stdout",
     "output_type": "stream",
     "text": [
      "[[0 1 2]] x\n",
      "[[0]\n",
      " [1]\n",
      " [2]] y\n",
      "x+y [[0 1 2]\n",
      " [1 2 3]\n",
      " [2 3 4]]\n"
     ]
    }
   ],
   "source": [
    "x=np.arange(3).reshape(1,3)\n",
    "y=np.arange(3).reshape(3,1)\n",
    "print(x,'x')\n",
    "print(y,'y')\n",
    "print('x+y',x+y)"
   ]
  },
  {
   "cell_type": "code",
   "execution_count": 22,
   "id": "93171681-2b35-4c01-96cc-c2e8ae6d680f",
   "metadata": {},
   "outputs": [
    {
     "name": "stdout",
     "output_type": "stream",
     "text": [
      "[[0 1 2]] x\n",
      "[[0]\n",
      " [1]\n",
      " [2]\n",
      " [3]] y\n",
      "x+y [[0 1 2]\n",
      " [1 2 3]\n",
      " [2 3 4]\n",
      " [3 4 5]]\n"
     ]
    }
   ],
   "source": [
    "x=np.arange(3).reshape(1,3)\n",
    "y=np.arange(4).reshape(4,1)\n",
    "print(x,'x')\n",
    "print(y,'y')\n",
    "print('x+y',x+y)"
   ]
  },
  {
   "cell_type": "code",
   "execution_count": 24,
   "id": "8810953d-0ba9-4752-ac0d-3433aecf9287",
   "metadata": {},
   "outputs": [
    {
     "name": "stdout",
     "output_type": "stream",
     "text": [
      "[1] x\n",
      "[[0 1]\n",
      " [2 3]] y\n",
      "x+y [[1 2]\n",
      " [3 4]]\n"
     ]
    }
   ],
   "source": [
    "x=np.array([1])\n",
    "y=np.arange(4).reshape(2,2)\n",
    "print(x,'x')\n",
    "print(y,'y')\n",
    "print('x+y',x+y)"
   ]
  },
  {
   "cell_type": "code",
   "execution_count": 25,
   "id": "c86e9acc-ec50-4c37-8c7a-6b9a3cc87cdf",
   "metadata": {},
   "outputs": [
    {
     "name": "stdout",
     "output_type": "stream",
     "text": [
      "[[ 0  1  2  3]\n",
      " [ 4  5  6  7]\n",
      " [ 8  9 10 11]] x\n",
      "[[ 0  1  2]\n",
      " [ 3  4  5]\n",
      " [ 6  7  8]\n",
      " [ 9 10 11]] y\n"
     ]
    },
    {
     "ename": "ValueError",
     "evalue": "operands could not be broadcast together with shapes (3,4) (4,3) ",
     "output_type": "error",
     "traceback": [
      "\u001b[1;31m---------------------------------------------------------------------------\u001b[0m",
      "\u001b[1;31mValueError\u001b[0m                                Traceback (most recent call last)",
      "Cell \u001b[1;32mIn[25], line 5\u001b[0m\n\u001b[0;32m      3\u001b[0m \u001b[38;5;28mprint\u001b[39m(x,\u001b[38;5;124m'\u001b[39m\u001b[38;5;124mx\u001b[39m\u001b[38;5;124m'\u001b[39m)\n\u001b[0;32m      4\u001b[0m \u001b[38;5;28mprint\u001b[39m(y,\u001b[38;5;124m'\u001b[39m\u001b[38;5;124my\u001b[39m\u001b[38;5;124m'\u001b[39m)\n\u001b[1;32m----> 5\u001b[0m \u001b[38;5;28mprint\u001b[39m(\u001b[38;5;124m'\u001b[39m\u001b[38;5;124mx+y\u001b[39m\u001b[38;5;124m'\u001b[39m,x\u001b[38;5;241m+\u001b[39my)\n",
      "\u001b[1;31mValueError\u001b[0m: operands could not be broadcast together with shapes (3,4) (4,3) "
     ]
    }
   ],
   "source": [
    "x=np.arange(12).reshape(3,4)\n",
    "y=np.arange(12).reshape(4,3)\n",
    "print(x,'x')\n",
    "print(y,'y')\n",
    "print('x+y',x+y)"
   ]
  },
  {
   "cell_type": "markdown",
   "id": "517c41b8-7f18-485f-9312-68851ea45721",
   "metadata": {},
   "source": [
    "## mathamatical formulas\n",
    "### signoid==1/1+e^-x\n",
    "### mean squared error\n",
    "### categorical cross entorpy"
   ]
  },
  {
   "cell_type": "code",
   "execution_count": 37,
   "id": "3cf1deac-62d9-4e73-acee-95e9c3267b59",
   "metadata": {},
   "outputs": [],
   "source": [
    "a=np.arange(10)\n",
    "def sigmoid(array):\n",
    "    return 1/(1+np.exp(np.negative(array)))\n"
   ]
  },
  {
   "cell_type": "code",
   "execution_count": 38,
   "id": "ae27847f-bb40-49ee-95d0-0c8f1ff2e60d",
   "metadata": {},
   "outputs": [
    {
     "data": {
      "text/plain": [
       "array([0.5       , 0.73105858, 0.88079708, 0.95257413, 0.98201379,\n",
       "       0.99330715, 0.99752738, 0.99908895, 0.99966465, 0.99987661])"
      ]
     },
     "execution_count": 38,
     "metadata": {},
     "output_type": "execute_result"
    }
   ],
   "source": [
    "sigmoid(a)"
   ]
  },
  {
   "cell_type": "code",
   "execution_count": 39,
   "id": "959029dd-3c75-4bf6-890d-8b447e8d28c5",
   "metadata": {},
   "outputs": [],
   "source": [
    "# mean squared error\n",
    "# loss function\n",
    "actual=np.random.randint(1,50,25)\n",
    "predict=np.random.randint(1,50,25)\n"
   ]
  },
  {
   "cell_type": "code",
   "execution_count": 40,
   "id": "7b52afac-f136-4cc1-80eb-b47ed1018f29",
   "metadata": {},
   "outputs": [
    {
     "data": {
      "text/plain": [
       "array([32, 17, 49, 33,  3,  7, 13, 41, 43, 36, 20, 45, 16, 10,  8, 27, 35,\n",
       "       36,  2,  5, 23,  8, 21, 25, 28])"
      ]
     },
     "execution_count": 40,
     "metadata": {},
     "output_type": "execute_result"
    }
   ],
   "source": [
    "actual"
   ]
  },
  {
   "cell_type": "code",
   "execution_count": 41,
   "id": "0a962d69-991b-425e-833c-2f1a8e083d95",
   "metadata": {},
   "outputs": [
    {
     "data": {
      "text/plain": [
       "array([ 8, 45, 17, 12, 22, 23,  4,  7, 12, 39, 46, 41, 23, 24, 30, 42, 36,\n",
       "       28, 40, 30, 42,  4, 31, 28, 39])"
      ]
     },
     "execution_count": 41,
     "metadata": {},
     "output_type": "execute_result"
    }
   ],
   "source": [
    "predict"
   ]
  },
  {
   "cell_type": "code",
   "execution_count": 44,
   "id": "88993d3a-fb76-43c0-b676-391f720ba6c7",
   "metadata": {},
   "outputs": [],
   "source": [
    "def MSB(actual,predict):\n",
    "    res_arr=(actual-predict)**2\n",
    "    return np.sqrt(np.mean(res_arr))\n"
   ]
  },
  {
   "cell_type": "code",
   "execution_count": 45,
   "id": "8df0fd6f-b640-455f-96dc-a2ebd765890c",
   "metadata": {},
   "outputs": [
    {
     "data": {
      "text/plain": [
       "20.035967658189108"
      ]
     },
     "execution_count": 45,
     "metadata": {},
     "output_type": "execute_result"
    }
   ],
   "source": [
    "MSB(actual,predict)"
   ]
  },
  {
   "cell_type": "code",
   "execution_count": null,
   "id": "34bc3a2b-fd1d-404b-aa10-b94a023d2d36",
   "metadata": {},
   "outputs": [],
   "source": []
  }
 ],
 "metadata": {
  "kernelspec": {
   "display_name": "Python 3 (ipykernel)",
   "language": "python",
   "name": "python3"
  },
  "language_info": {
   "codemirror_mode": {
    "name": "ipython",
    "version": 3
   },
   "file_extension": ".py",
   "mimetype": "text/x-python",
   "name": "python",
   "nbconvert_exporter": "python",
   "pygments_lexer": "ipython3",
   "version": "3.11.7"
  }
 },
 "nbformat": 4,
 "nbformat_minor": 5
}
