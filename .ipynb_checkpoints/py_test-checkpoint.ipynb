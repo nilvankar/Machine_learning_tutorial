{
 "cells": [
  {
   "cell_type": "code",
   "execution_count": 1,
   "id": "cf596e42-16d3-4f66-ab2c-975c320e21c2",
   "metadata": {},
   "outputs": [
    {
     "name": "stdout",
     "output_type": "stream",
     "text": [
      "hello world\n"
     ]
    }
   ],
   "source": [
    "print(\"hello world\")"
   ]
  },
  {
   "cell_type": "markdown",
   "id": "0035a975-da70-4752-b49f-57fe2896af11",
   "metadata": {},
   "source": [
    "## variable\n",
    "* a container to store values temporarily\n",
    "## variable naming rules\n",
    "* not space between word-example-> name of ❌\n",
    "* no special character except _(underscore) example- name_of_country\n",
    "* should not start with number or special character - ✔✅_xyz , ❌#var ❌12name"
   ]
  },
  {
   "cell_type": "code",
   "execution_count": 60,
   "id": "3ec132cb-e657-4946-b0ff-a20d0bc01776",
   "metadata": {},
   "outputs": [
    {
     "data": {
      "text/plain": [
       "20"
      ]
     },
     "execution_count": 60,
     "metadata": {},
     "output_type": "execute_result"
    }
   ],
   "source": [
    "_xyz=20\n",
    "_xyz"
   ]
  },
  {
   "cell_type": "markdown",
   "id": "f09aa3b3-715a-4105-819d-26d92fb53180",
   "metadata": {},
   "source": [
    "## datatype\n",
    "* tells what type of data variable going to store\n",
    "  "
   ]
  },
  {
   "cell_type": "code",
   "execution_count": 6,
   "id": "07735448-06d2-4f1d-955b-6850f67282ad",
   "metadata": {},
   "outputs": [
    {
     "name": "stdin",
     "output_type": "stream",
     "text": [
      "Enter you name neel\n",
      "Enter you age 18\n",
      "you height 144\n",
      "you gender Male? True or False  True\n"
     ]
    },
    {
     "name": "stdout",
     "output_type": "stream",
     "text": [
      "Your name is neel and age is 18.Your are144.0 cm tall and your gender is True \n"
     ]
    }
   ],
   "source": [
    "str=input(\"Enter you name\")\n",
    "age=int(input(\"Enter you age\"))\n",
    "height=float(input(\"you height\"))\n",
    "\n",
    "gender=bool(input(\"you gender Male? True or False \"))\n",
    "print(f\"Your name is {str} and age is {age}.Your are{height} cm tall and your gender is {gender} \")"
   ]
  },
  {
   "cell_type": "code",
   "execution_count": 7,
   "id": "906afdc4-2861-48df-815f-43fe0f708478",
   "metadata": {},
   "outputs": [],
   "source": [
    "a=3+4j"
   ]
  },
  {
   "cell_type": "markdown",
   "id": "64443d13-22c2-4794-8eb4-a8ce9bbc297a",
   "metadata": {},
   "source": [
    "## type function\n",
    "* it returns type of value"
   ]
  },
  {
   "cell_type": "code",
   "execution_count": 9,
   "id": "d4b9e431-af83-4ff3-8fcb-52c4c0fc0b0a",
   "metadata": {},
   "outputs": [
    {
     "data": {
      "text/plain": [
       "complex"
      ]
     },
     "execution_count": 9,
     "metadata": {},
     "output_type": "execute_result"
    }
   ],
   "source": [
    "type(a)"
   ]
  },
  {
   "cell_type": "markdown",
   "id": "aa92e205-e9e0-4ba4-abbf-7541ef8dde4e",
   "metadata": {},
   "source": [
    "## Data structures in python\n",
    "* List\n",
    "* Tuple\n",
    "* Set\n",
    "* Dictionary\n",
    "  "
   ]
  },
  {
   "cell_type": "code",
   "execution_count": 16,
   "id": "492c1e4e-16e3-4c83-8458-ca3aa5678939",
   "metadata": {},
   "outputs": [
    {
     "name": "stdout",
     "output_type": "stream",
     "text": [
      "1\n",
      "2\n",
      "3\n",
      "4\n",
      "5\n",
      "xyz\n",
      "{'name': 'Neel'}\n"
     ]
    },
    {
     "data": {
      "text/plain": [
       "[1, 2, 3, 4, 5, 'xyz', {'name': 'Neel'}]"
      ]
     },
     "execution_count": 16,
     "metadata": {},
     "output_type": "execute_result"
    }
   ],
   "source": [
    "meralist=[1,2,3,4,5,\"xyz\",{\"name\":\"Neel\"}]\n",
    "for i in meralist:\n",
    "    print(i)\n",
    "meralist"
   ]
  },
  {
   "cell_type": "markdown",
   "id": "62c53996-8e53-43d9-838f-d034e8e18d2f",
   "metadata": {},
   "source": [
    "## list() function"
   ]
  },
  {
   "cell_type": "code",
   "execution_count": 15,
   "id": "36f5b26b-643d-4dcd-95a8-2f6f4482bb3b",
   "metadata": {},
   "outputs": [
    {
     "data": {
      "text/plain": [
       "[10, 20, 304, 40]"
      ]
     },
     "execution_count": 15,
     "metadata": {},
     "output_type": "execute_result"
    }
   ],
   "source": [
    "meralist=list([10,20,304,40])\n",
    "meralist"
   ]
  },
  {
   "cell_type": "markdown",
   "id": "aed6637d-5b0c-422e-85a4-3304363a2eb9",
   "metadata": {},
   "source": [
    "## tuple() \n",
    "* imutable\n",
    "*  allow duplicates"
   ]
  },
  {
   "cell_type": "code",
   "execution_count": 20,
   "id": "1a9796aa-8245-4cd3-a124-b4fd77e0540e",
   "metadata": {},
   "outputs": [],
   "source": [
    "tup=tuple((10,10,20,30))"
   ]
  },
  {
   "cell_type": "code",
   "execution_count": 32,
   "id": "32c4f08a-0069-485d-8715-135b2c2b5aaf",
   "metadata": {},
   "outputs": [
    {
     "data": {
      "text/plain": [
       "(20, 30)"
      ]
     },
     "execution_count": 32,
     "metadata": {},
     "output_type": "execute_result"
    }
   ],
   "source": [
    "# slicing\n",
    "tup[2:4]"
   ]
  },
  {
   "cell_type": "code",
   "execution_count": 33,
   "id": "7ec1153b-5c40-43fa-8f60-34717fa4b216",
   "metadata": {},
   "outputs": [
    {
     "data": {
      "text/plain": [
       "30"
      ]
     },
     "execution_count": 33,
     "metadata": {},
     "output_type": "execute_result"
    }
   ],
   "source": [
    "# indexing\n",
    "tup[3]"
   ]
  },
  {
   "cell_type": "markdown",
   "id": "3eb9dbea-79a8-4679-94ef-39c4400053a1",
   "metadata": {},
   "source": [
    "# set{}\n",
    "* unordered immutable and doesnt allow duplicates"
   ]
  },
  {
   "cell_type": "code",
   "execution_count": 41,
   "id": "6567edfa-a870-41f1-9a2e-d6dc1ac882c1",
   "metadata": {},
   "outputs": [],
   "source": [
    "s1={1,2,3,1,2}"
   ]
  },
  {
   "cell_type": "markdown",
   "id": "73b4ed59-3744-4578-ad69-ef2ac42d1af1",
   "metadata": {},
   "source": [
    "## dictionary\n",
    "* key value pairs"
   ]
  },
  {
   "cell_type": "code",
   "execution_count": 45,
   "id": "6540037e-28ad-413a-89e9-ecfe7e8ecab7",
   "metadata": {},
   "outputs": [],
   "source": [
    "cars=[{\"name\":\"The Da Vinci Code\",\"ISBN\":\"WSDI212\"},{\"name\":\"The Notebook\",\"ISBN\":\"WSDI213\"},{\"name\":\"To Kill a Mockingbird\",\"ISBN\":\"WSDI212\"}]"
   ]
  },
  {
   "cell_type": "code",
   "execution_count": 50,
   "id": "6f9abb15-b518-4b48-8277-34303746a9b5",
   "metadata": {},
   "outputs": [
    {
     "data": {
      "text/plain": [
       "list"
      ]
     },
     "execution_count": 50,
     "metadata": {},
     "output_type": "execute_result"
    }
   ],
   "source": [
    "type(cars)"
   ]
  },
  {
   "cell_type": "code",
   "execution_count": 51,
   "id": "6b0cebe3-ef81-4fc4-854a-3d6cd43b4fc6",
   "metadata": {},
   "outputs": [],
   "source": [
    "dict={\"name\":\"The Da Vinci Code\",\"ISBN\":\"WSDI212\",\"rank\":3}"
   ]
  },
  {
   "cell_type": "code",
   "execution_count": 52,
   "id": "f808e89c-4c48-4f8a-9061-6e99b4e53958",
   "metadata": {},
   "outputs": [
    {
     "data": {
      "text/plain": [
       "{'name': 'The Da Vinci Code', 'ISBN': 'WSDI212', 'rank': 3}"
      ]
     },
     "execution_count": 52,
     "metadata": {},
     "output_type": "execute_result"
    }
   ],
   "source": [
    "dict"
   ]
  },
  {
   "cell_type": "code",
   "execution_count": 58,
   "id": "38806a3f-dfb3-420f-b4a3-7066a7965324",
   "metadata": {},
   "outputs": [
    {
     "data": {
      "text/plain": [
       "dict_keys(['name', 'ISBN', 'rank'])"
      ]
     },
     "execution_count": 58,
     "metadata": {},
     "output_type": "execute_result"
    }
   ],
   "source": [
    "dict.keys()"
   ]
  },
  {
   "cell_type": "code",
   "execution_count": 59,
   "id": "f5ef5a4f-22a3-4b31-852f-26d34e844201",
   "metadata": {},
   "outputs": [
    {
     "data": {
      "text/plain": [
       "dict_values(['The Da Vinci Code', 'WSDI212', 3])"
      ]
     },
     "execution_count": 59,
     "metadata": {},
     "output_type": "execute_result"
    }
   ],
   "source": [
    "dict.values()"
   ]
  },
  {
   "cell_type": "markdown",
   "id": "7fb4417c-d71b-4c9b-ab49-dd2d95ab2f93",
   "metadata": {},
   "source": [
    "## list methods\n",
    "* push\n",
    "* pop"
   ]
  },
  {
   "cell_type": "code",
   "execution_count": 74,
   "id": "632b2023-0f41-4bab-8548-53edda9b34b4",
   "metadata": {},
   "outputs": [
    {
     "name": "stdout",
     "output_type": "stream",
     "text": [
      "<class 'list'>\n"
     ]
    }
   ],
   "source": [
    "three_list=[[[1,2,3],[4,5,6]  ],[[3,4,4],[2,3,4] ]  ]\n",
    "print(type(three_list))"
   ]
  },
  {
   "cell_type": "code",
   "execution_count": 75,
   "id": "f97b705c-d9a3-42c9-8c23-c8e5e08a27ae",
   "metadata": {},
   "outputs": [
    {
     "name": "stdout",
     "output_type": "stream",
     "text": [
      "['N', 'e', 'e', 'l']\n"
     ]
    }
   ],
   "source": [
    "print(list(\"Neel\"))"
   ]
  },
  {
   "cell_type": "code",
   "execution_count": 80,
   "id": "3329be90-f762-4dd0-a81c-dad4f70439f2",
   "metadata": {},
   "outputs": [
    {
     "data": {
      "text/plain": [
       "50"
      ]
     },
     "execution_count": 80,
     "metadata": {},
     "output_type": "execute_result"
    }
   ],
   "source": [
    "num=[10,20,30,40,50,10,20,30,40,50]\n",
    "num[]"
   ]
  },
  {
   "cell_type": "code",
   "execution_count": 99,
   "id": "b5c0d311-d818-43a5-809a-4d17b00d4d26",
   "metadata": {},
   "outputs": [
    {
     "data": {
      "text/plain": [
       "5"
      ]
     },
     "execution_count": 99,
     "metadata": {},
     "output_type": "execute_result"
    }
   ],
   "source": [
    "three_list=[[[1,2],[3,4]],[[5,6],[7,8]]]\n",
    "three_list[1][0][0]"
   ]
  },
  {
   "cell_type": "code",
   "execution_count": 102,
   "id": "af285851-f584-492b-af12-eec427a1cd19",
   "metadata": {},
   "outputs": [
    {
     "data": {
      "text/plain": [
       "4"
      ]
     },
     "execution_count": 102,
     "metadata": {},
     "output_type": "execute_result"
    }
   ],
   "source": [
    "second=[1,2,3,[4,5]]\n",
    "second[3][0]"
   ]
  },
  {
   "cell_type": "markdown",
   "id": "ef7a7c46-8904-4074-999d-f034af6a147c",
   "metadata": {},
   "source": [
    "## Adding Item\n",
    "* append--at last\n",
    "* insert--at specific position  -->(position,element)\n",
    "* extend--multiple element at last"
   ]
  },
  {
   "cell_type": "code",
   "execution_count": 131,
   "id": "f9399f01-c69d-4073-9918-953021709ccd",
   "metadata": {},
   "outputs": [
    {
     "data": {
      "text/plain": [
       "[2, 2, 3, 4, [0, 2]]"
      ]
     },
     "execution_count": 131,
     "metadata": {},
     "output_type": "execute_result"
    }
   ],
   "source": [
    "l=[]\n",
    "l.append(2)\n",
    "l.extend([2,3,4])\n",
    "l.append([0,2])\n",
    "l"
   ]
  },
  {
   "cell_type": "code",
   "execution_count": 138,
   "id": "1d6271af-ffff-4192-b246-fba19f2887ef",
   "metadata": {},
   "outputs": [
    {
     "data": {
      "text/plain": [
       "[10, 20, 'd', 'e', 'l', 'h', 'i']"
      ]
     },
     "execution_count": 138,
     "metadata": {},
     "output_type": "execute_result"
    }
   ],
   "source": [
    "l=[10,20]\n",
    "l.extend(\"delhi\")\n",
    "l"
   ]
  },
  {
   "cell_type": "code",
   "execution_count": 141,
   "id": "3591c211-55b2-4221-bcbf-93984b6632a2",
   "metadata": {},
   "outputs": [],
   "source": [
    "l=[10,30,40]\n",
    "l.insert(1,20)\n"
   ]
  },
  {
   "cell_type": "code",
   "execution_count": 148,
   "id": "5500dd07-c6bf-458b-b061-efe0066d44ab",
   "metadata": {},
   "outputs": [
    {
     "data": {
      "text/plain": [
       "[10, 20, 30, 40, 4, 5]"
      ]
     },
     "execution_count": 148,
     "metadata": {},
     "output_type": "execute_result"
    }
   ],
   "source": [
    "# editing\n",
    "li=[1,2,3,4,5]\n",
    "li[0]=10\n",
    "li[1:3]=[20,30,40]\n",
    "li"
   ]
  },
  {
   "cell_type": "markdown",
   "id": "b1046cb8-2001-411f-bebb-aa1ecddb87a6",
   "metadata": {},
   "source": [
    "## deleting\n",
    "* remove---given element gets delete (element)\n",
    "* del---remove all the elemnts un list\n",
    "* pop--iven element gets delete based on index(index)--> if index not provided than last element gets delete\n",
    "* clear\n",
    "  empty list\n"
   ]
  },
  {
   "cell_type": "code",
   "execution_count": 165,
   "id": "b8b2d062-1438-456f-8753-d71aea4824fe",
   "metadata": {},
   "outputs": [
    {
     "data": {
      "text/plain": [
       "[1, 2, 3, 4]"
      ]
     },
     "execution_count": 165,
     "metadata": {},
     "output_type": "execute_result"
    }
   ],
   "source": [
    "li=[1,2,3,4,5]\n",
    "li\n",
    "# del li\n",
    "del li[-1]\n",
    "# del [2:3]\n",
    "li"
   ]
  },
  {
   "cell_type": "code",
   "execution_count": 166,
   "id": "fe231e54-a7de-4df8-b98a-75c7b705dff3",
   "metadata": {},
   "outputs": [
    {
     "data": {
      "text/plain": [
       "[1, 2, 3, 5]"
      ]
     },
     "execution_count": 166,
     "metadata": {},
     "output_type": "execute_result"
    }
   ],
   "source": [
    "li=[1,2,3,4,5]\n",
    "li\n",
    "li.remove(4)\n",
    "li"
   ]
  },
  {
   "cell_type": "code",
   "execution_count": 173,
   "id": "53fac0d1-78ab-4666-bd7f-bdccb22b35a3",
   "metadata": {},
   "outputs": [
    {
     "data": {
      "text/plain": [
       "[10, 20, 40, 50]"
      ]
     },
     "execution_count": 173,
     "metadata": {},
     "output_type": "execute_result"
    }
   ],
   "source": [
    "li=[10,20,30,40,50]\n",
    "li.pop(2)\n",
    "li"
   ]
  },
  {
   "cell_type": "code",
   "execution_count": 175,
   "id": "6de79bf0-b216-42de-b59a-ab16f415cc4a",
   "metadata": {},
   "outputs": [
    {
     "data": {
      "text/plain": [
       "[]"
      ]
     },
     "execution_count": 175,
     "metadata": {},
     "output_type": "execute_result"
    }
   ],
   "source": [
    "li=[1,2,3,4,5]\n",
    "li.clear()\n",
    "li"
   ]
  },
  {
   "cell_type": "markdown",
   "id": "ece79316-2979-4d24-bae9-fbc71b9f8040",
   "metadata": {},
   "source": [
    "## merging two list"
   ]
  },
  {
   "cell_type": "code",
   "execution_count": 178,
   "id": "4b209b28-4f5a-4a9e-a1ad-b15128e70ba3",
   "metadata": {},
   "outputs": [
    {
     "data": {
      "text/plain": [
       "[10, 20, 30, 40, 10, 20, 30, 40]"
      ]
     },
     "execution_count": 178,
     "metadata": {},
     "output_type": "execute_result"
    }
   ],
   "source": [
    "li1=[10,20,30,40]\n",
    "li2=[10,20,30,40]\n",
    "li1+li2\n"
   ]
  },
  {
   "cell_type": "code",
   "execution_count": 180,
   "id": "e0432859-d06a-42cc-9984-71318f24b01d",
   "metadata": {},
   "outputs": [
    {
     "data": {
      "text/plain": [
       "[10, 20, 30, 40, 10, 20, 30, 40]"
      ]
     },
     "execution_count": 180,
     "metadata": {},
     "output_type": "execute_result"
    }
   ],
   "source": [
    "li1*2\n",
    "#number of times"
   ]
  },
  {
   "cell_type": "code",
   "execution_count": 182,
   "id": "f671092b-44a7-4f2d-9e5f-af18c274f913",
   "metadata": {},
   "outputs": [
    {
     "name": "stdout",
     "output_type": "stream",
     "text": [
      "True\n"
     ]
    }
   ],
   "source": [
    "# membership \n",
    "li=[1,2,3,4]\n",
    "print(2 in li)"
   ]
  },
  {
   "cell_type": "code",
   "execution_count": 183,
   "id": "92e6757a-63a2-4e84-a21f-140cc69d43ac",
   "metadata": {},
   "outputs": [
    {
     "name": "stdout",
     "output_type": "stream",
     "text": [
      "True\n"
     ]
    }
   ],
   "source": [
    "li2=[1,2,3,[4,5]]\n",
    "print([4,5] in li2)"
   ]
  },
  {
   "cell_type": "code",
   "execution_count": 186,
   "id": "dd742582-f23b-4704-8622-70e6bc8a9e0c",
   "metadata": {},
   "outputs": [
    {
     "name": "stdout",
     "output_type": "stream",
     "text": [
      "[[1, 2], [3, 4]]\n",
      "[[5, 6], [7, 8]]\n"
     ]
    }
   ],
   "source": [
    "li1=[10,20,30,40]\n",
    "li2=[10,20,30,40,[50,60]]\n",
    "li3=[[[1,2],[3,4]],[[5,6],[7,8]]]\n",
    "for i in li3:\n",
    "    print(i)"
   ]
  },
  {
   "cell_type": "markdown",
   "id": "19831b28-6e13-42ee-ac5c-e27a872b4f9b",
   "metadata": {},
   "source": [
    "## list function\n",
    "* len\n",
    "* min\n",
    "* max\n",
    "* (sorted,(listname,reverse=True)) -->temporary\n",
    "* count -->return number of occurence for an element\n",
    "* index-->index position of given item\n",
    "* reverse -->sort array in reverse order\n",
    "* sort-->permenant operation\n",
    "* copy "
   ]
  },
  {
   "cell_type": "code",
   "execution_count": 202,
   "id": "0dc67ca7-a597-4cd7-812d-419b9eaed6b4",
   "metadata": {},
   "outputs": [
    {
     "data": {
      "text/plain": [
       "2"
      ]
     },
     "execution_count": 202,
     "metadata": {},
     "output_type": "execute_result"
    }
   ],
   "source": [
    "l=[34,12,6,300,12]\n",
    "len(l)\n",
    "min(l)\n",
    "max(l)\n",
    "sorted(l,reverse=True)\n",
    "l.count(12)\n",
    "l.index(6)"
   ]
  },
  {
   "cell_type": "code",
   "execution_count": 205,
   "id": "ec6cb8bb-51f5-47d6-9500-3daa0d548db2",
   "metadata": {},
   "outputs": [
    {
     "name": "stdout",
     "output_type": "stream",
     "text": [
      "None\n"
     ]
    },
    {
     "data": {
      "text/plain": [
       "[12, 300, 6, 12, 34]"
      ]
     },
     "execution_count": 205,
     "metadata": {},
     "output_type": "execute_result"
    }
   ],
   "source": [
    "print(l.reverse())\n",
    "l"
   ]
  },
  {
   "cell_type": "code",
   "execution_count": 217,
   "id": "ede8e193-b641-4848-907a-e6cfec4fcc81",
   "metadata": {},
   "outputs": [
    {
     "name": "stdout",
     "output_type": "stream",
     "text": [
      "None\n"
     ]
    },
    {
     "data": {
      "text/plain": [
       "[5, 4, 3, 2, 1]"
      ]
     },
     "execution_count": 217,
     "metadata": {},
     "output_type": "execute_result"
    }
   ],
   "source": [
    "l=[1,2,3,4,5]\n",
    "# l\n",
    "# print(sorted(l,reverse=False))\n",
    "# l\n",
    "print(l.sort(reverse=True))\n",
    "l\n"
   ]
  },
  {
   "cell_type": "code",
   "execution_count": 235,
   "id": "fee9a64c-48ed-4609-9154-ba9d3d600d80",
   "metadata": {},
   "outputs": [
    {
     "data": {
      "text/plain": [
       "'this is a string \\n hello there,'"
      ]
     },
     "execution_count": 235,
     "metadata": {},
     "output_type": "execute_result"
    }
   ],
   "source": [
    "str=\"this is a string \\n hello there,\"\n",
    "len(str)\n",
    "str.upper()\n",
    "str"
   ]
  },
  {
   "cell_type": "code",
   "execution_count": 240,
   "id": "3f0f218e-6fd4-43cb-a639-00cd9207de83",
   "metadata": {},
   "outputs": [
    {
     "name": "stdout",
     "output_type": "stream",
     "text": [
      "finally part\n"
     ]
    }
   ],
   "source": [
    "import pandas as pd\n",
    "try:\n",
    "    df=pd.read_csv('patient.csv')\n",
    "    df.head()\n",
    "except:\n",
    "    print(\"file not found\")\n",
    "finally:\n",
    "    print(\"finally part\")"
   ]
  },
  {
   "cell_type": "code",
   "execution_count": 241,
   "id": "120461f2-edff-414c-8b47-1e0394f87289",
   "metadata": {},
   "outputs": [
    {
     "data": {
      "text/html": [
       "<div>\n",
       "<style scoped>\n",
       "    .dataframe tbody tr th:only-of-type {\n",
       "        vertical-align: middle;\n",
       "    }\n",
       "\n",
       "    .dataframe tbody tr th {\n",
       "        vertical-align: top;\n",
       "    }\n",
       "\n",
       "    .dataframe thead th {\n",
       "        text-align: right;\n",
       "    }\n",
       "</style>\n",
       "<table border=\"1\" class=\"dataframe\">\n",
       "  <thead>\n",
       "    <tr style=\"text-align: right;\">\n",
       "      <th></th>\n",
       "      <th>Sr.</th>\n",
       "      <th>Name of the patient</th>\n",
       "      <th>Age</th>\n",
       "      <th>Gender</th>\n",
       "      <th>Total billirubin</th>\n",
       "      <th>Direct billirubin</th>\n",
       "      <th>Indirect billirubin</th>\n",
       "      <th>S.G.O.T. (AST)</th>\n",
       "      <th>S.G.P.T.(ALT)</th>\n",
       "      <th>Alkaline phosphatase</th>\n",
       "      <th>Type of jaundice</th>\n",
       "    </tr>\n",
       "  </thead>\n",
       "  <tbody>\n",
       "    <tr>\n",
       "      <th>0</th>\n",
       "      <td>1</td>\n",
       "      <td>Tanvi S.</td>\n",
       "      <td>25</td>\n",
       "      <td>F</td>\n",
       "      <td>0.55</td>\n",
       "      <td>0.20</td>\n",
       "      <td>0.50</td>\n",
       "      <td>15</td>\n",
       "      <td>14</td>\n",
       "      <td>88.0</td>\n",
       "      <td>Negative</td>\n",
       "    </tr>\n",
       "    <tr>\n",
       "      <th>1</th>\n",
       "      <td>2</td>\n",
       "      <td>Bhrahmagma M.</td>\n",
       "      <td>39</td>\n",
       "      <td>M</td>\n",
       "      <td>0.65</td>\n",
       "      <td>0.20</td>\n",
       "      <td>0.45</td>\n",
       "      <td>12</td>\n",
       "      <td>11</td>\n",
       "      <td>104.0</td>\n",
       "      <td>Negative</td>\n",
       "    </tr>\n",
       "    <tr>\n",
       "      <th>2</th>\n",
       "      <td>3</td>\n",
       "      <td>Jigar sharma</td>\n",
       "      <td>30</td>\n",
       "      <td>M</td>\n",
       "      <td>0.48</td>\n",
       "      <td>0.17</td>\n",
       "      <td>0.31</td>\n",
       "      <td>21</td>\n",
       "      <td>23</td>\n",
       "      <td>77.0</td>\n",
       "      <td>Negative</td>\n",
       "    </tr>\n",
       "    <tr>\n",
       "      <th>3</th>\n",
       "      <td>4</td>\n",
       "      <td>Prakashbhai B.</td>\n",
       "      <td>30</td>\n",
       "      <td>M</td>\n",
       "      <td>0.42</td>\n",
       "      <td>0.18</td>\n",
       "      <td>0.24</td>\n",
       "      <td>19</td>\n",
       "      <td>25</td>\n",
       "      <td>56.0</td>\n",
       "      <td>Negative</td>\n",
       "    </tr>\n",
       "    <tr>\n",
       "      <th>4</th>\n",
       "      <td>5</td>\n",
       "      <td>Vijay swami</td>\n",
       "      <td>51</td>\n",
       "      <td>F</td>\n",
       "      <td>0.33</td>\n",
       "      <td>0.12</td>\n",
       "      <td>0.21</td>\n",
       "      <td>24</td>\n",
       "      <td>41</td>\n",
       "      <td>91.0</td>\n",
       "      <td>Negative</td>\n",
       "    </tr>\n",
       "  </tbody>\n",
       "</table>\n",
       "</div>"
      ],
      "text/plain": [
       "   Sr. Name of the patient  Age Gender  Total billirubin   Direct billirubin  \\\n",
       "0    1            Tanvi S.   25      F               0.55               0.20   \n",
       "1    2       Bhrahmagma M.   39      M               0.65               0.20   \n",
       "2    3        Jigar sharma   30      M               0.48               0.17   \n",
       "3    4      Prakashbhai B.   30      M               0.42               0.18   \n",
       "4    5         Vijay swami   51      F               0.33               0.12   \n",
       "\n",
       "   Indirect billirubin  S.G.O.T. (AST)  S.G.P.T.(ALT)  Alkaline phosphatase  \\\n",
       "0                 0.50              15             14                  88.0   \n",
       "1                 0.45              12             11                 104.0   \n",
       "2                 0.31              21             23                  77.0   \n",
       "3                 0.24              19             25                  56.0   \n",
       "4                 0.21              24             41                  91.0   \n",
       "\n",
       "  Type of jaundice  \n",
       "0        Negative   \n",
       "1         Negative  \n",
       "2         Negative  \n",
       "3         Negative  \n",
       "4         Negative  "
      ]
     },
     "execution_count": 241,
     "metadata": {},
     "output_type": "execute_result"
    }
   ],
   "source": [
    "df.head()"
   ]
  },
  {
   "cell_type": "code",
   "execution_count": 248,
   "id": "0bee6ae4-8cf8-4c3b-b691-c0cd906b46a7",
   "metadata": {},
   "outputs": [
    {
     "name": "stdout",
     "output_type": "stream",
     "text": [
      "100\n"
     ]
    }
   ],
   "source": [
    "x=200\n",
    "num=100\n",
    "try:\n",
    "    res=num/x\n",
    "except ZeroDivisionError:\n",
    "    print(\"cannot divide by zero\")\n",
    "finally:\n",
    "    print(num)"
   ]
  },
  {
   "cell_type": "markdown",
   "id": "210d834c-72f0-44d2-9951-f4cf1eee9971",
   "metadata": {},
   "source": [
    "## String methods\n",
    "* startswith()--return boolean value if it is start with provided value then True else False\n",
    "* endsswith()--return boolean value if it is end with provided value then True else False\n",
    "* capitalize()--convert first character of first word to upper case\n",
    "* upper()---convert string to upper case\n",
    "* lower()---convert   string to lower case\n",
    "* isupper()---check  all characters in string is upper case\n",
    "* islower()---check  all characters in string is lower case\n",
    "* count--return number of times a string value occure\n",
    "* strip==>remove extra white spaces\n",
    "* lstrip==>remove extra white spaces from left side\n",
    "* rstrip===>remove extra white spaces from right side\n",
    "* split()==>convert each word of sting into list elements"
   ]
  },
  {
   "cell_type": "code",
   "execution_count": 17,
   "id": "a34c3f02-ebdc-4193-ad9a-92c6e63c952d",
   "metadata": {},
   "outputs": [
    {
     "name": "stdout",
     "output_type": "stream",
     "text": [
      "True\n",
      "False\n",
      "NEEL VANKAR\n",
      "neel vankar\n",
      "Neel vankar\n",
      "1\n",
      "7\n",
      "False\n",
      "False\n",
      "rhckdnc   \n",
      "rhckdnc\n",
      "['Neel', 'Vankar']\n"
     ]
    }
   ],
   "source": [
    "name=\"Neel Vankar\"\n",
    "print(name.startswith(\"N\"))\n",
    "print(name.endswith(\"N\"))\n",
    "print(name.upper())\n",
    "print(name.lower())\n",
    "print(name.capitalize())\n",
    "print(name.count(\"n\"))\n",
    "age=\"rhckdnc   \"\n",
    "print(name.find(\"n\"))\n",
    "print(name.isupper())\n",
    "print(name.islower())\n",
    "print(age.lstrip())\n",
    "print(age.rstrip())\n",
    "print(name.split())"
   ]
  },
  {
   "cell_type": "code",
   "execution_count": 21,
   "id": "5664c677-ecd3-4e26-97fc-66d7ae1f23e2",
   "metadata": {},
   "outputs": [
    {
     "name": "stdout",
     "output_type": "stream",
     "text": [
      "Hello sam!\n"
     ]
    }
   ],
   "source": [
    "mydict={83:20}\n",
    "txt=\"Hello sam!\"\n",
    "print(txt.translate(mydict))"
   ]
  },
  {
   "cell_type": "code",
   "execution_count": null,
   "id": "460a45cd-a71e-41a8-9857-06def2c5cb9e",
   "metadata": {},
   "outputs": [],
   "source": []
  }
 ],
 "metadata": {
  "kernelspec": {
   "display_name": "Python 3 (ipykernel)",
   "language": "python",
   "name": "python3"
  },
  "language_info": {
   "codemirror_mode": {
    "name": "ipython",
    "version": 3
   },
   "file_extension": ".py",
   "mimetype": "text/x-python",
   "name": "python",
   "nbconvert_exporter": "python",
   "pygments_lexer": "ipython3",
   "version": "3.11.7"
  }
 },
 "nbformat": 4,
 "nbformat_minor": 5
}
