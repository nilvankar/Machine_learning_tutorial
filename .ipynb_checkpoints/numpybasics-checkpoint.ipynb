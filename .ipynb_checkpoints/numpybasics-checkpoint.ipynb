{
 "cells": [
  {
   "cell_type": "code",
   "execution_count": 142,
   "id": "3c50d1c3-1674-4a1e-905e-6d520f3be3b4",
   "metadata": {},
   "outputs": [],
   "source": [
    "import numpy as np"
   ]
  },
  {
   "cell_type": "markdown",
   "id": "45d48708-2287-45a2-b09b-5532f32961bd",
   "metadata": {},
   "source": [
    "## create ndimensional array\n"
   ]
  },
  {
   "cell_type": "code",
   "execution_count": 143,
   "id": "4c9d8fce-d3e9-4ffa-9200-f6f45ed1c67d",
   "metadata": {},
   "outputs": [
    {
     "data": {
      "text/plain": [
       "array([10, 20, 30])"
      ]
     },
     "execution_count": 143,
     "metadata": {},
     "output_type": "execute_result"
    }
   ],
   "source": [
    "a=np.array([10,20,30])\n",
    "a"
   ]
  },
  {
   "cell_type": "code",
   "execution_count": 144,
   "id": "024c8a4b-c1d6-452e-92e9-aa876ff835f4",
   "metadata": {},
   "outputs": [
    {
     "name": "stdout",
     "output_type": "stream",
     "text": [
      "<class 'numpy.ndarray'>\n"
     ]
    }
   ],
   "source": [
    "print(type(a))"
   ]
  },
  {
   "cell_type": "code",
   "execution_count": 23,
   "id": "8d8b0e3a-6f5a-433a-82b9-7d066a426b84",
   "metadata": {},
   "outputs": [
    {
     "data": {
      "text/plain": [
       "array([[1, 2, 3],\n",
       "       [4, 5, 6]])"
      ]
     },
     "execution_count": 23,
     "metadata": {},
     "output_type": "execute_result"
    }
   ],
   "source": [
    "# 2ndimensopnal array\n",
    "two_dimension=np.array([[1,2,3],[4,5,6]])\n",
    "two_dimension"
   ]
  },
  {
   "cell_type": "code",
   "execution_count": 24,
   "id": "87c041aa-e375-4e2c-9831-d9474f42c3f0",
   "metadata": {},
   "outputs": [
    {
     "data": {
      "text/plain": [
       "numpy.ndarray"
      ]
     },
     "execution_count": 24,
     "metadata": {},
     "output_type": "execute_result"
    }
   ],
   "source": [
    "type(two_dimension)"
   ]
  },
  {
   "cell_type": "code",
   "execution_count": 27,
   "id": "a473037c-39b5-41c6-af62-c703a3d918f5",
   "metadata": {},
   "outputs": [],
   "source": [
    "zero_array=np.zeros((2,3))"
   ]
  },
  {
   "cell_type": "code",
   "execution_count": 28,
   "id": "3393ad59-d5f8-47b7-898b-dbcf76c83c75",
   "metadata": {},
   "outputs": [
    {
     "data": {
      "text/plain": [
       "array([[0., 0., 0.],\n",
       "       [0., 0., 0.]])"
      ]
     },
     "execution_count": 28,
     "metadata": {},
     "output_type": "execute_result"
    }
   ],
   "source": [
    "zero_array"
   ]
  },
  {
   "cell_type": "code",
   "execution_count": 29,
   "id": "32c25e6e-964f-423f-99e1-2f970fd197b7",
   "metadata": {},
   "outputs": [],
   "source": [
    "one_dimension=np.ones((3,3))"
   ]
  },
  {
   "cell_type": "code",
   "execution_count": 31,
   "id": "8ee79d06-d5c8-4227-a95b-ceb46344ae44",
   "metadata": {},
   "outputs": [
    {
     "data": {
      "text/plain": [
       "numpy.ndarray"
      ]
     },
     "execution_count": 31,
     "metadata": {},
     "output_type": "execute_result"
    }
   ],
   "source": [
    "type(one_dimension)"
   ]
  },
  {
   "cell_type": "markdown",
   "id": "ea27b63e-da39-4a79-98df-cf9a2ca13c36",
   "metadata": {},
   "source": [
    "#identity matrix where diaognal enties are 1 and non-diaognal are zero"
   ]
  },
  {
   "cell_type": "code",
   "execution_count": 34,
   "id": "b3347e89-487c-4f32-88fb-0213fed6c8e5",
   "metadata": {},
   "outputs": [],
   "source": [
    "identity_matrix=np.identity(3)"
   ]
  },
  {
   "cell_type": "code",
   "execution_count": 35,
   "id": "51d1b81f-3ed7-493b-9374-bab2e5938f5a",
   "metadata": {},
   "outputs": [
    {
     "data": {
      "text/plain": [
       "array([[1., 0., 0.],\n",
       "       [0., 1., 0.],\n",
       "       [0., 0., 1.]])"
      ]
     },
     "execution_count": 35,
     "metadata": {},
     "output_type": "execute_result"
    }
   ],
   "source": [
    "identity_matrix"
   ]
  },
  {
   "cell_type": "code",
   "execution_count": 37,
   "id": "95df82a8-ca22-4a11-a002-66b175627bb9",
   "metadata": {},
   "outputs": [
    {
     "data": {
      "text/plain": [
       "array([0, 1, 2, 3, 4, 5, 6, 7, 8, 9])"
      ]
     },
     "execution_count": 37,
     "metadata": {},
     "output_type": "execute_result"
    }
   ],
   "source": [
    "# arange function\n",
    "araned_array=np.arange(10)\n",
    "araned_array"
   ]
  },
  {
   "cell_type": "code",
   "execution_count": 38,
   "id": "d42d64e8-3c29-41da-a240-d9f8a1093e83",
   "metadata": {},
   "outputs": [],
   "source": [
    "# last value index\n",
    "stop_array=np.arange(10,20)"
   ]
  },
  {
   "cell_type": "code",
   "execution_count": 39,
   "id": "a14cf847-1d9a-421d-a0fe-1cc963c736ba",
   "metadata": {},
   "outputs": [
    {
     "data": {
      "text/plain": [
       "array([10, 11, 12, 13, 14, 15, 16, 17, 18, 19])"
      ]
     },
     "execution_count": 39,
     "metadata": {},
     "output_type": "execute_result"
    }
   ],
   "source": [
    "stop_array"
   ]
  },
  {
   "cell_type": "code",
   "execution_count": 40,
   "id": "02831c88-1088-4cb0-b598-291487391de1",
   "metadata": {},
   "outputs": [],
   "source": [
    "# stoping index\n",
    "stop_index=np.arange(10,40,2)"
   ]
  },
  {
   "cell_type": "code",
   "execution_count": 41,
   "id": "644ed10b-2533-4b89-b478-0336b1489340",
   "metadata": {},
   "outputs": [
    {
     "data": {
      "text/plain": [
       "array([10, 12, 14, 16, 18, 20, 22, 24, 26, 28, 30, 32, 34, 36, 38])"
      ]
     },
     "execution_count": 41,
     "metadata": {},
     "output_type": "execute_result"
    }
   ],
   "source": [
    "stop_index"
   ]
  },
  {
   "cell_type": "code",
   "execution_count": 42,
   "id": "540b5e77-30b2-4814-82c9-35252cd136cd",
   "metadata": {},
   "outputs": [
    {
     "data": {
      "text/plain": [
       "array([10.        , 11.11111111, 12.22222222, 13.33333333, 14.44444444,\n",
       "       15.55555556, 16.66666667, 17.77777778, 18.88888889, 20.        ])"
      ]
     },
     "execution_count": 42,
     "metadata": {},
     "output_type": "execute_result"
    }
   ],
   "source": [
    "lin_space=np.linspace(10,20,10)\n",
    "lin_space"
   ]
  },
  {
   "cell_type": "code",
   "execution_count": 43,
   "id": "6751440c-3586-4b00-822a-ae6a6662233a",
   "metadata": {},
   "outputs": [
    {
     "data": {
      "text/plain": [
       "array([[0., 0., 0.],\n",
       "       [0., 0., 0.]])"
      ]
     },
     "execution_count": 43,
     "metadata": {},
     "output_type": "execute_result"
    }
   ],
   "source": [
    "copy_array=np.copy(zero_array)\n",
    "copy_array"
   ]
  },
  {
   "cell_type": "markdown",
   "id": "104e32ac-844b-4640-b8cd-bc96ad64e5ed",
   "metadata": {},
   "source": [
    "## Attributes"
   ]
  },
  {
   "cell_type": "code",
   "execution_count": 44,
   "id": "318b4247-f68e-4c2c-b047-6bce8ea97416",
   "metadata": {},
   "outputs": [],
   "source": [
    "arr_9=np.array([[1,2,3],[4,5,6],[7,8,9]])"
   ]
  },
  {
   "cell_type": "code",
   "execution_count": 45,
   "id": "4f855976-e3ed-4227-ac47-48c47787209c",
   "metadata": {},
   "outputs": [
    {
     "data": {
      "text/plain": [
       "array([[1, 2, 3],\n",
       "       [4, 5, 6],\n",
       "       [7, 8, 9]])"
      ]
     },
     "execution_count": 45,
     "metadata": {},
     "output_type": "execute_result"
    }
   ],
   "source": [
    "arr_9"
   ]
  },
  {
   "cell_type": "code",
   "execution_count": 46,
   "id": "5c7736e0-4fd1-4f2d-acdf-195c8f2516f3",
   "metadata": {},
   "outputs": [
    {
     "data": {
      "text/plain": [
       "(3, 3)"
      ]
     },
     "execution_count": 46,
     "metadata": {},
     "output_type": "execute_result"
    }
   ],
   "source": [
    "arr_9.shape"
   ]
  },
  {
   "cell_type": "code",
   "execution_count": 47,
   "id": "676cfdc5-8172-4af7-8ef5-b47056a616ac",
   "metadata": {},
   "outputs": [
    {
     "data": {
      "text/plain": [
       "2"
      ]
     },
     "execution_count": 47,
     "metadata": {},
     "output_type": "execute_result"
    }
   ],
   "source": [
    "arr_9.ndim"
   ]
  },
  {
   "cell_type": "code",
   "execution_count": 51,
   "id": "c99a08a9-95f0-4866-9b36-5621aadc4c04",
   "metadata": {},
   "outputs": [],
   "source": [
    "three_dimension=np.array([[[10,20,30],[40,50,60],[40,50,60]]])"
   ]
  },
  {
   "cell_type": "code",
   "execution_count": 52,
   "id": "4687deae-5f85-4e74-b9b1-afd223d125e8",
   "metadata": {},
   "outputs": [
    {
     "data": {
      "text/plain": [
       "array([[[10, 20, 30],\n",
       "        [40, 50, 60],\n",
       "        [40, 50, 60]]])"
      ]
     },
     "execution_count": 52,
     "metadata": {},
     "output_type": "execute_result"
    }
   ],
   "source": [
    "three_dimension"
   ]
  },
  {
   "cell_type": "code",
   "execution_count": 55,
   "id": "3a963b27-738e-4fbd-b072-c069e5c8ef44",
   "metadata": {},
   "outputs": [
    {
     "data": {
      "text/plain": [
       "3"
      ]
     },
     "execution_count": 55,
     "metadata": {},
     "output_type": "execute_result"
    }
   ],
   "source": [
    "three_dimension.ndim"
   ]
  },
  {
   "cell_type": "markdown",
   "id": "c525aef4-8bff-461c-a2cd-81b6ae0cddcf",
   "metadata": {},
   "source": [
    "## Size"
   ]
  },
  {
   "cell_type": "code",
   "execution_count": 56,
   "id": "8d275715-f214-46e6-be14-5eefa25cdc85",
   "metadata": {},
   "outputs": [
    {
     "data": {
      "text/plain": [
       "9"
      ]
     },
     "execution_count": 56,
     "metadata": {},
     "output_type": "execute_result"
    }
   ],
   "source": [
    "# it return row*column\n",
    "three_dimension.size"
   ]
  },
  {
   "cell_type": "markdown",
   "id": "d4b642cf-5dd9-4fc5-b5a4-0294079b48c8",
   "metadata": {},
   "source": [
    "## itemsize"
   ]
  },
  {
   "cell_type": "code",
   "execution_count": 58,
   "id": "f88a04c5-dfa2-4195-88bb-26903e368738",
   "metadata": {},
   "outputs": [
    {
     "data": {
      "text/plain": [
       "4"
      ]
     },
     "execution_count": 58,
     "metadata": {},
     "output_type": "execute_result"
    }
   ],
   "source": [
    "# it return memotry occupied by items if it is int then 4 if it is float then 8 \n",
    "three_dimension.itemsize"
   ]
  },
  {
   "cell_type": "code",
   "execution_count": 60,
   "id": "1b4ec98a-7b79-4e61-a359-7f8d30effb43",
   "metadata": {},
   "outputs": [
    {
     "data": {
      "text/plain": [
       "dtype('int32')"
      ]
     },
     "execution_count": 60,
     "metadata": {},
     "output_type": "execute_result"
    }
   ],
   "source": [
    "three_dimension.dtype"
   ]
  },
  {
   "cell_type": "markdown",
   "id": "5ff9c9f2-7369-480a-b11a-a7e2864bb995",
   "metadata": {},
   "source": [
    "## astype"
   ]
  },
  {
   "cell_type": "code",
   "execution_count": 61,
   "id": "fefbca3f-3124-4349-8355-80b7471376a8",
   "metadata": {},
   "outputs": [],
   "source": [
    "# astype convert all data to provided type\n",
    "astype_lin_space=np.copy(lin_space)"
   ]
  },
  {
   "cell_type": "code",
   "execution_count": 62,
   "id": "a4ddc7a1-fc31-4548-86fa-254156fb209a",
   "metadata": {},
   "outputs": [
    {
     "data": {
      "text/plain": [
       "array([10, 11, 12, 13, 14, 15, 16, 17, 18, 20])"
      ]
     },
     "execution_count": 62,
     "metadata": {},
     "output_type": "execute_result"
    }
   ],
   "source": [
    "astype_lin_space.astype('int32')"
   ]
  },
  {
   "cell_type": "markdown",
   "id": "694dfb1d-942a-45ff-bad8-3f641dd01eb2",
   "metadata": {},
   "source": [
    "## Python List vs numpy "
   ]
  },
  {
   "cell_type": "code",
   "execution_count": 64,
   "id": "f9fa727a-9a32-4172-96ec-d700e319ff8a",
   "metadata": {},
   "outputs": [],
   "source": [
    "# fast,convenient,less memory\n",
    "list=range(30)\n",
    "arr11=np.arange(30)\n"
   ]
  },
  {
   "cell_type": "code",
   "execution_count": 65,
   "id": "9aed04db-5f3d-4cb1-9399-17dc528c6233",
   "metadata": {},
   "outputs": [],
   "source": [
    "import sys\n"
   ]
  },
  {
   "cell_type": "code",
   "execution_count": 66,
   "id": "fee99c13-6efa-4042-8349-b40a7b4f633a",
   "metadata": {},
   "outputs": [
    {
     "data": {
      "text/plain": [
       "840"
      ]
     },
     "execution_count": 66,
     "metadata": {},
     "output_type": "execute_result"
    }
   ],
   "source": [
    "sys.getsizeof(87)*len(list)"
   ]
  },
  {
   "cell_type": "code",
   "execution_count": 67,
   "id": "c2eb8171-5036-449b-9287-2b0fc1db8882",
   "metadata": {},
   "outputs": [
    {
     "data": {
      "text/plain": [
       "120"
      ]
     },
     "execution_count": 67,
     "metadata": {},
     "output_type": "execute_result"
    }
   ],
   "source": [
    "arr11.itemsize*arr11.size"
   ]
  },
  {
   "cell_type": "code",
   "execution_count": 89,
   "id": "17d288ef-371e-40b1-8161-6daf03191332",
   "metadata": {},
   "outputs": [],
   "source": [
    "import time"
   ]
  },
  {
   "cell_type": "code",
   "execution_count": 92,
   "id": "5f26c3b0-b5f9-4a7a-afb0-6d5e0ccb4611",
   "metadata": {},
   "outputs": [
    {
     "name": "stdout",
     "output_type": "stream",
     "text": [
      "1.7544147968292236\n"
     ]
    }
   ],
   "source": [
    "x=range(10000000)\n",
    "y=range(10000000,20000000)\n",
    "start_time=time.time()\n",
    "res=[(x,y) for x,y in zip(x,y)]\n",
    "print(time.time()-start_time)"
   ]
  },
  {
   "cell_type": "code",
   "execution_count": 93,
   "id": "f97d4bb6-37e0-4a32-bf97-6fd518d97652",
   "metadata": {},
   "outputs": [
    {
     "name": "stdout",
     "output_type": "stream",
     "text": [
      "0.4186515808105469\n"
     ]
    }
   ],
   "source": [
    "# nummpy array\n",
    "x=np.arange(10000000)\n",
    "y=np.arange(10000000,20000000)\n",
    "start_time=time.time()\n",
    "res=x+y\n",
    "print(time.time()-start_time)"
   ]
  },
  {
   "cell_type": "markdown",
   "id": "5be56a19-fbcb-410c-b9d1-55b91eb92333",
   "metadata": {},
   "source": [
    "## indexing sliceing"
   ]
  },
  {
   "cell_type": "code",
   "execution_count": 114,
   "id": "2269e4b0-0251-4ff1-8648-9325ce802ab3",
   "metadata": {},
   "outputs": [],
   "source": [
    "arr12=np.arange(24).reshape(6,4)"
   ]
  },
  {
   "cell_type": "code",
   "execution_count": 115,
   "id": "2c91c1e0-f540-4218-a9fb-8d9dcfec9c02",
   "metadata": {},
   "outputs": [
    {
     "data": {
      "text/plain": [
       "array([[ 0,  1,  2,  3],\n",
       "       [ 4,  5,  6,  7],\n",
       "       [ 8,  9, 10, 11],\n",
       "       [12, 13, 14, 15],\n",
       "       [16, 17, 18, 19],\n",
       "       [20, 21, 22, 23]])"
      ]
     },
     "execution_count": 115,
     "metadata": {},
     "output_type": "execute_result"
    }
   ],
   "source": [
    "arr12"
   ]
  },
  {
   "cell_type": "code",
   "execution_count": 119,
   "id": "aa2a2060-383b-4846-a142-5dad92fb7d73",
   "metadata": {},
   "outputs": [
    {
     "data": {
      "text/plain": [
       "array([[ 2,  3],\n",
       "       [ 6,  7],\n",
       "       [10, 11],\n",
       "       [14, 15],\n",
       "       [18, 19],\n",
       "       [22, 23]])"
      ]
     },
     "execution_count": 119,
     "metadata": {},
     "output_type": "execute_result"
    }
   ],
   "source": [
    "arr12[:,2:4]"
   ]
  },
  {
   "cell_type": "code",
   "execution_count": 127,
   "id": "5ecd85a1-f45b-47c6-89ff-66128459faad",
   "metadata": {},
   "outputs": [
    {
     "data": {
      "text/plain": [
       "array([[ 9, 10],\n",
       "       [13, 14]])"
      ]
     },
     "execution_count": 127,
     "metadata": {},
     "output_type": "execute_result"
    }
   ],
   "source": [
    "arr12[2:4,1:3]\n",
    "# pay attentantion that last index get ignore"
   ]
  },
  {
   "cell_type": "code",
   "execution_count": 128,
   "id": "dc262594-0ad7-4ba8-8fc4-25c90f3f17d4",
   "metadata": {},
   "outputs": [
    {
     "data": {
      "text/plain": [
       "array([[18, 19],\n",
       "       [22, 23]])"
      ]
     },
     "execution_count": 128,
     "metadata": {},
     "output_type": "execute_result"
    }
   ],
   "source": [
    "arr12[4:6,2:4]"
   ]
  },
  {
   "cell_type": "code",
   "execution_count": 130,
   "id": "ef0efbdc-ed77-48cc-ac02-710192bc1127",
   "metadata": {},
   "outputs": [
    {
     "name": "stdout",
     "output_type": "stream",
     "text": [
      "[0 1 2 3]\n",
      "[4 5 6 7]\n",
      "[ 8  9 10 11]\n",
      "[12 13 14 15]\n",
      "[16 17 18 19]\n",
      "[20 21 22 23]\n"
     ]
    }
   ],
   "source": [
    "# Iteration\n",
    "\n",
    "for i in arr12:\n",
    "    print(i)"
   ]
  },
  {
   "cell_type": "code",
   "execution_count": 141,
   "id": "e09875a1-11f3-42d3-b8ae-2b55f9ee97b3",
   "metadata": {},
   "outputs": [
    {
     "name": "stdout",
     "output_type": "stream",
     "text": [
      "0\n",
      "1\n",
      "4\n",
      "9\n",
      "16\n",
      "25\n",
      "36\n",
      "49\n",
      "64\n",
      "81\n",
      "100\n",
      "121\n",
      "144\n",
      "169\n",
      "196\n",
      "225\n",
      "256\n",
      "289\n",
      "324\n",
      "361\n",
      "400\n",
      "441\n",
      "484\n",
      "529\n"
     ]
    }
   ],
   "source": [
    "for i in np.nditer(arr12):\n",
    "    print(i*i)"
   ]
  },
  {
   "cell_type": "code",
   "execution_count": 156,
   "id": "3bdef557-f766-4790-9b2a-c66bd0f6c6af",
   "metadata": {},
   "outputs": [
    {
     "data": {
      "text/plain": [
       "array([[10, 20, 30],\n",
       "       [40, 50, 60]])"
      ]
     },
     "execution_count": 156,
     "metadata": {},
     "output_type": "execute_result"
    }
   ],
   "source": [
    "two_matrix=np.array([[10,20,30],[40,50,60]])\n",
    "two_matrix"
   ]
  },
  {
   "cell_type": "code",
   "execution_count": 157,
   "id": "42a4823a-e4d0-4ffc-a9f9-4b232bd6222f",
   "metadata": {},
   "outputs": [
    {
     "data": {
      "text/plain": [
       "array([[10, 20],\n",
       "       [30, 40],\n",
       "       [50, 60]])"
      ]
     },
     "execution_count": 157,
     "metadata": {},
     "output_type": "execute_result"
    }
   ],
   "source": [
    "res=two_matrix.reshape(3,2)\n",
    "res"
   ]
  },
  {
   "cell_type": "code",
   "execution_count": 166,
   "id": "18d20d4f-e504-43f0-acd2-102575f9fda3",
   "metadata": {},
   "outputs": [
    {
     "data": {
      "text/plain": [
       "array([ True,  True,  True,  True,  True,  True])"
      ]
     },
     "execution_count": 166,
     "metadata": {},
     "output_type": "execute_result"
    }
   ],
   "source": [
    "arr1=np.array([1,2,3,4,5,6])\n",
    "arr2=np.array([4,100,6,7,8,9])\n",
    "arr2>=3"
   ]
  },
  {
   "cell_type": "markdown",
   "id": "c9a1ec55-a19e-4c1c-bb4b-bede2b70253f",
   "metadata": {},
   "source": [
    "## dot product"
   ]
  },
  {
   "cell_type": "code",
   "execution_count": 27,
   "id": "b91cc32d-45ae-4063-9c6b-62b70976ad97",
   "metadata": {},
   "outputs": [
    {
     "name": "stdout",
     "output_type": "stream",
     "text": [
      "arr3 [[0 1 2]\n",
      " [3 4 5]]\n",
      ". arr4 [[ 6  7]\n",
      " [ 8  9]\n",
      " [10 11]] =====\n",
      "[[ 28  31]\n",
      " [100 112]]\n"
     ]
    }
   ],
   "source": [
    "arr3=np.arange(6).reshape(2,3)\n",
    "arr4=np.arange(6,12).reshape(3,2)\n",
    "print(\"arr3\",arr3)\n",
    "print(\".\",\"arr4\",arr4,\"=====\")\n",
    "print(arr3.dot(arr4))"
   ]
  },
  {
   "cell_type": "code",
   "execution_count": 171,
   "id": "2bd6b610-d8fb-4df8-8008-be0bd499f8d4",
   "metadata": {},
   "outputs": [
    {
     "data": {
      "text/plain": [
       "0"
      ]
     },
     "execution_count": 171,
     "metadata": {},
     "output_type": "execute_result"
    }
   ],
   "source": [
    "arr3.min()"
   ]
  },
  {
   "cell_type": "code",
   "execution_count": 172,
   "id": "5fcc8f2e-dcd0-45ce-9448-f7e7cb9e9cf6",
   "metadata": {},
   "outputs": [
    {
     "data": {
      "text/plain": [
       "5"
      ]
     },
     "execution_count": 172,
     "metadata": {},
     "output_type": "execute_result"
    }
   ],
   "source": [
    "arr3.max()"
   ]
  },
  {
   "cell_type": "code",
   "execution_count": 175,
   "id": "e9c579e2-731b-4b5b-9925-09caa01e7918",
   "metadata": {},
   "outputs": [
    {
     "data": {
      "text/plain": [
       "array([3, 5, 7])"
      ]
     },
     "execution_count": 175,
     "metadata": {},
     "output_type": "execute_result"
    }
   ],
   "source": [
    "arr3.sum(axis=0)"
   ]
  },
  {
   "cell_type": "code",
   "execution_count": 177,
   "id": "974c283a-5140-4273-8504-9427a1ec904e",
   "metadata": {},
   "outputs": [
    {
     "data": {
      "text/plain": [
       "2.5"
      ]
     },
     "execution_count": 177,
     "metadata": {},
     "output_type": "execute_result"
    }
   ],
   "source": [
    "arr3.mean()"
   ]
  },
  {
   "cell_type": "code",
   "execution_count": 179,
   "id": "dd98a9d3-9f89-48c9-bd80-a39ca6dc789a",
   "metadata": {},
   "outputs": [
    {
     "data": {
      "text/plain": [
       "1.707825127659933"
      ]
     },
     "execution_count": 179,
     "metadata": {},
     "output_type": "execute_result"
    }
   ],
   "source": [
    "arr3.std()"
   ]
  },
  {
   "cell_type": "code",
   "execution_count": 181,
   "id": "e19ce06b-2b07-4312-b965-a6d092f44182",
   "metadata": {},
   "outputs": [
    {
     "data": {
      "text/plain": [
       "8.5"
      ]
     },
     "execution_count": 181,
     "metadata": {},
     "output_type": "execute_result"
    }
   ],
   "source": [
    "np.median(arr4)"
   ]
  },
  {
   "cell_type": "code",
   "execution_count": 192,
   "id": "7a7d5af4-76d4-42c9-bd0b-3d02d3fb102b",
   "metadata": {},
   "outputs": [
    {
     "data": {
      "text/plain": [
       "array([[  -0.29100619,    0.87144798],\n",
       "       [  -6.79971146,   -0.45231566],\n",
       "       [   0.64836083, -225.95084645]])"
      ]
     },
     "execution_count": 192,
     "metadata": {},
     "output_type": "execute_result"
    }
   ],
   "source": [
    "np.tan(arr4)"
   ]
  },
  {
   "cell_type": "markdown",
   "id": "5bcda001-c8fa-4f54-9c5d-a2a740488dc7",
   "metadata": {},
   "source": [
    "## Ravel"
   ]
  },
  {
   "cell_type": "code",
   "execution_count": 30,
   "id": "2cebafa8-bd77-4d8b-8018-22eb8e088072",
   "metadata": {},
   "outputs": [
    {
     "data": {
      "text/plain": [
       "array([ 6,  7,  8,  9, 10, 11])"
      ]
     },
     "execution_count": 30,
     "metadata": {},
     "output_type": "execute_result"
    }
   ],
   "source": [
    "arr4.ravel()\n",
    "# convert into one dimesion array"
   ]
  },
  {
   "cell_type": "code",
   "execution_count": 32,
   "id": "9b09bdfc-7a68-46ad-8822-0ef228a60e21",
   "metadata": {},
   "outputs": [
    {
     "data": {
      "text/plain": [
       "array([[ 6,  8, 10],\n",
       "       [ 7,  9, 11]])"
      ]
     },
     "execution_count": 32,
     "metadata": {},
     "output_type": "execute_result"
    }
   ],
   "source": [
    "arr4.transpose()\n",
    "# row becomes column and columns become row"
   ]
  },
  {
   "cell_type": "code",
   "execution_count": 33,
   "id": "cbf3fe48-949c-4a7f-a632-069bd7be4fe4",
   "metadata": {},
   "outputs": [
    {
     "data": {
      "text/plain": [
       "array([[ 6,  8, 10],\n",
       "       [ 7,  9, 11]])"
      ]
     },
     "execution_count": 33,
     "metadata": {},
     "output_type": "execute_result"
    }
   ],
   "source": [
    "np.transpose(arr4)"
   ]
  },
  {
   "cell_type": "code",
   "execution_count": 34,
   "id": "4603b5cb-9967-48ea-aed8-de307c042f2c",
   "metadata": {},
   "outputs": [
    {
     "data": {
      "text/plain": [
       "array([[10, 20, 30, 10, 20, 30],\n",
       "       [40, 50, 60, 40, 50, 60]])"
      ]
     },
     "execution_count": 34,
     "metadata": {},
     "output_type": "execute_result"
    }
   ],
   "source": [
    "arr5=np.array([[10,20,30],[40,50,60]])\n",
    "arr6=np.array([[10,20,30],[40,50,60]])\n",
    "res=np.hstack((arr5,arr6))\n",
    "res"
   ]
  },
  {
   "cell_type": "code",
   "execution_count": 203,
   "id": "590c908c-b572-433d-99e2-5bcad1ce2dbe",
   "metadata": {},
   "outputs": [
    {
     "data": {
      "text/plain": [
       "array([[10, 20, 30],\n",
       "       [40, 50, 60],\n",
       "       [10, 20, 30],\n",
       "       [40, 50, 60]])"
      ]
     },
     "execution_count": 203,
     "metadata": {},
     "output_type": "execute_result"
    }
   ],
   "source": [
    "arr5=np.array([[10,20,30],[40,50,60]])\n",
    "arr6=np.array([[10,20,30],[40,50,60]])\n",
    "res=np.vstack((arr5,arr6))\n",
    "res"
   ]
  },
  {
   "cell_type": "code",
   "execution_count": 205,
   "id": "b54111eb-9b92-430f-8d72-fb049a9099ef",
   "metadata": {},
   "outputs": [
    {
     "data": {
      "text/plain": [
       "array([[ 0,  1,  2,  3],\n",
       "       [ 8,  9, 10, 11],\n",
       "       [16, 17, 18, 19]])"
      ]
     },
     "execution_count": 205,
     "metadata": {},
     "output_type": "execute_result"
    }
   ],
   "source": [
    "arr8=np.arange(24).reshape(6,4)\n",
    "arr8[[0,2,4]]"
   ]
  },
  {
   "cell_type": "markdown",
   "id": "a1bbab45-11a2-4660-a12b-19e4fceb1553",
   "metadata": {},
   "source": [
    "## Boolean Indexing\n"
   ]
  },
  {
   "cell_type": "code",
   "execution_count": 208,
   "id": "c097d183-35b0-430f-86a3-6a60bdae3510",
   "metadata": {},
   "outputs": [],
   "source": [
    "# only items left for which condition is true\n",
    "even=arr8[arr8%2==0]\n",
    "odd=arr8[arr8%2!=0]"
   ]
  },
  {
   "cell_type": "code",
   "execution_count": 209,
   "id": "862c1dd3-802f-4c85-a7f2-b5f74f93067c",
   "metadata": {},
   "outputs": [
    {
     "data": {
      "text/plain": [
       "array([ 0,  2,  4,  6,  8, 10, 12, 14, 16, 18, 20, 22])"
      ]
     },
     "execution_count": 209,
     "metadata": {},
     "output_type": "execute_result"
    }
   ],
   "source": [
    "even"
   ]
  },
  {
   "cell_type": "code",
   "execution_count": 210,
   "id": "2282e5bc-db1e-44b2-b658-34be4424cc9c",
   "metadata": {},
   "outputs": [
    {
     "data": {
      "text/plain": [
       "array([ 1,  3,  5,  7,  9, 11, 13, 15, 17, 19, 21, 23])"
      ]
     },
     "execution_count": 210,
     "metadata": {},
     "output_type": "execute_result"
    }
   ],
   "source": [
    "odd"
   ]
  },
  {
   "cell_type": "code",
   "execution_count": null,
   "id": "ce9873e6-ae4a-48fb-8843-9720b7ff2695",
   "metadata": {},
   "outputs": [],
   "source": []
  },
  {
   "cell_type": "code",
   "execution_count": 1,
   "id": "73840c17-93c1-4aa4-af1f-67579232dc80",
   "metadata": {},
   "outputs": [],
   "source": [
    "import numpy as np"
   ]
  },
  {
   "cell_type": "code",
   "execution_count": 8,
   "id": "1c0bf851-650d-4fb2-90d6-31884b940770",
   "metadata": {},
   "outputs": [],
   "source": [
    "arr1=np.array([[10,20,30],[10,20,30]])"
   ]
  },
  {
   "cell_type": "code",
   "execution_count": 9,
   "id": "82c4ec0a-f87a-40bd-ad7a-75c19bf3be3a",
   "metadata": {},
   "outputs": [
    {
     "data": {
      "text/plain": [
       "array([[10, 20, 30],\n",
       "       [10, 20, 30]])"
      ]
     },
     "execution_count": 9,
     "metadata": {},
     "output_type": "execute_result"
    }
   ],
   "source": [
    "arr1"
   ]
  },
  {
   "cell_type": "code",
   "execution_count": 14,
   "id": "40f018a5-335e-4ba7-973e-33025c375c6d",
   "metadata": {},
   "outputs": [],
   "source": [
    "num=np.arange(18).reshape(6,3)"
   ]
  },
  {
   "cell_type": "code",
   "execution_count": 15,
   "id": "129fab10-0888-400e-a922-77517ae5119d",
   "metadata": {},
   "outputs": [
    {
     "data": {
      "text/plain": [
       "array([[ 0,  1,  2],\n",
       "       [ 3,  4,  5],\n",
       "       [ 6,  7,  8],\n",
       "       [ 9, 10, 11],\n",
       "       [12, 13, 14],\n",
       "       [15, 16, 17]])"
      ]
     },
     "execution_count": 15,
     "metadata": {},
     "output_type": "execute_result"
    }
   ],
   "source": [
    "num"
   ]
  },
  {
   "cell_type": "code",
   "execution_count": 24,
   "id": "69c31bb6-fa93-4f62-bb8d-a0d8423e6fde",
   "metadata": {},
   "outputs": [
    {
     "name": "stdout",
     "output_type": "stream",
     "text": [
      "0\n",
      "1\n",
      "4\n",
      "9\n",
      "16\n",
      "25\n",
      "36\n",
      "49\n",
      "64\n",
      "81\n",
      "100\n",
      "121\n",
      "144\n",
      "169\n",
      "196\n",
      "225\n",
      "256\n",
      "289\n"
     ]
    }
   ],
   "source": [
    "for i in np.nditer(num):\n",
    "    print(i*i)"
   ]
  },
  {
   "cell_type": "code",
   "execution_count": null,
   "id": "091a08bb-716b-421c-8b08-6d763882ccda",
   "metadata": {},
   "outputs": [],
   "source": []
  }
 ],
 "metadata": {
  "kernelspec": {
   "display_name": "Python 3 (ipykernel)",
   "language": "python",
   "name": "python3"
  },
  "language_info": {
   "codemirror_mode": {
    "name": "ipython",
    "version": 3
   },
   "file_extension": ".py",
   "mimetype": "text/x-python",
   "name": "python",
   "nbconvert_exporter": "python",
   "pygments_lexer": "ipython3",
   "version": "3.11.7"
  }
 },
 "nbformat": 4,
 "nbformat_minor": 5
}
